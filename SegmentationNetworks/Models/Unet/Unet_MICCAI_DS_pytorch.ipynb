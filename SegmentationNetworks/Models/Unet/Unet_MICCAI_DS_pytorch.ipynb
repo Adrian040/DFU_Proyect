{
 "cells": [
  {
   "cell_type": "code",
   "execution_count": null,
   "metadata": {
    "id": "rAOyoIdVn_SO"
   },
   "outputs": [],
   "source": [
    "import pandas as pd\n",
    "import io\n",
    "from PIL import Image"
   ]
  },
  {
   "cell_type": "code",
   "execution_count": null,
   "metadata": {
    "colab": {
     "base_uri": "https://localhost:8080/"
    },
    "id": "1HDpUyz_oLIh",
    "outputId": "8c314cc7-1e59-4036-a02c-936e829e3de8"
   },
   "outputs": [
    {
     "name": "stdout",
     "output_type": "stream",
     "text": [
      "Cloning into 'FootSegmentation_4'...\n",
      "remote: Enumerating objects: 5831, done.\u001b[K\n",
      "remote: Counting objects: 100% (1810/1810), done.\u001b[K\n",
      "remote: Compressing objects: 100% (1651/1651), done.\u001b[K\n",
      "remote: Total 5831 (delta 694), reused 332 (delta 144), pack-reused 4021 (from 1)\u001b[K\n",
      "Receiving objects: 100% (5831/5831), 503.81 MiB | 21.58 MiB/s, done.\n",
      "Resolving deltas: 100% (1887/1887), done.\n",
      "Updating files: 100% (5334/5334), done.\n"
     ]
    }
   ],
   "source": [
    "# !git clone https://github.com/Sekkan-soluciones-biomedicas/FootSegmentation_4.git   # Clonamos el repositorio de archivos e imágenes."
   ]
  },
  {
   "cell_type": "code",
   "execution_count": null,
   "metadata": {
    "colab": {
     "base_uri": "https://localhost:8080/"
    },
    "id": "zTQyW_7N0KZC",
    "outputId": "4e7df480-ee89-4163-b9a2-b06049ab82c9"
   },
   "outputs": [
    {
     "name": "stdout",
     "output_type": "stream",
     "text": [
      "Cloning into 'wound-segmentation'...\n",
      "remote: Enumerating objects: 3487, done.\u001b[K\n",
      "remote: Counting objects: 100% (3/3), done.\u001b[K\n",
      "remote: Compressing objects: 100% (3/3), done.\u001b[K\n",
      "remote: Total 3487 (delta 0), reused 1 (delta 0), pack-reused 3484 (from 1)\u001b[K\n",
      "Receiving objects: 100% (3487/3487), 338.79 MiB | 25.83 MiB/s, done.\n",
      "Resolving deltas: 100% (1248/1248), done.\n",
      "Updating files: 100% (2593/2593), done.\n"
     ]
    }
   ],
   "source": [
    "# !git clone https://github.com/uwm-bigdata/wound-segmentation.git"
   ]
  },
  {
   "cell_type": "markdown",
   "metadata": {
    "id": "R7vtP1NQBWer"
   },
   "source": [
    "## Apartado para agregar el nuevo dataset:"
   ]
  },
  {
   "cell_type": "code",
   "execution_count": null,
   "metadata": {
    "id": "NXCmtrJ4fzPX"
   },
   "outputs": [],
   "source": [
    "# prompt: Dame una función que tome como argumento una el path de una carpeta y me devuelva la cantidad de archivos dentro de la misma\n",
    "\n",
    "import os\n",
    "\n",
    "def count_files_in_folder(folder_path):\n",
    "\n",
    "  if not os.path.isdir(folder_path):\n",
    "    return 0  # O puedes lanzar una excepción si la ruta no es una carpeta válida\n",
    "  file_count = len([f for f in os.listdir(folder_path) if os.path.isfile(os.path.join(folder_path, f))])\n",
    "\n",
    "  # return print(f\"La carpeta contiene {file_count} archivos.\")\n",
    "  return file_count"
   ]
  },
  {
   "cell_type": "markdown",
   "metadata": {
    "id": "D66aScvulxCG"
   },
   "source": [
    "#### Juntamos el ds viejo y el nuevo completos en una nueva carpeta:"
   ]
  },
  {
   "cell_type": "markdown",
   "metadata": {
    "id": "pntMnvECruXO"
   },
   "source": [
    "Creamos una carpeta (\"*Ims_double*\") con todas las imágenes (las del viejo DS y el nuevo DS) juntas, tanto para las imágenes como para las máscaras:"
   ]
  },
  {
   "cell_type": "code",
   "execution_count": null,
   "metadata": {
    "id": "qoUjQDk5r6mW"
   },
   "outputs": [],
   "source": [
    "# prompt: Dame una función que tome como argumento una lista de paths de carpetas, de tal forma que copie el contenido de todas las carpetas de la lista en una nueva carpeta la cual se debe crear (el path para esta última carpeta se pasará como un segundo argumento a la función)\n",
    "\n",
    "import shutil\n",
    "import os\n",
    "\n",
    "def copy_folders_content(source_folders, destination_folder):\n",
    "  \"\"\"\n",
    "  Copies the content of multiple source folders into a new destination folder.\n",
    "\n",
    "  Args:\n",
    "    source_folders: A list of paths to the source folders.\n",
    "    destination_folder: The path to the new destination folder.-.,ma\n",
    "  \"\"\"\n",
    "\n",
    "  if not os.path.exists(destination_folder):\n",
    "    os.makedirs(destination_folder)\n",
    "\n",
    "  for source_folder in source_folders:\n",
    "    for item in os.listdir(source_folder):\n",
    "      source_path = os.path.join(source_folder, item)\n",
    "      destination_path = os.path.join(destination_folder, item)\n",
    "\n",
    "      if os.path.isdir(source_path):\n",
    "        shutil.copytree(source_path, destination_path, dirs_exist_ok=True)\n",
    "      else:\n",
    "        shutil.copy2(source_path, destination_path)\n",
    "\n",
    "# Example usage:\n",
    "# source_folders = [\"/path/to/folder1\", \"/path/to/folder2\"]\n",
    "# destination_folder = \"/path/to/new_folder\"\n",
    "# copy_folders_content(source_folders, destination_folder)"
   ]
  },
  {
   "cell_type": "markdown",
   "metadata": {
    "id": "3AezKoDDwppF"
   },
   "source": [
    "**Juntamos las todas las imágenes tanto de test (o validation) como del training.**\n",
    "\n",
    "(Se juntan las 1010 totales del DFU challenge junto con las 1010 de heridas en la piel)\n",
    "\n",
    "$⇒ 2020$ imágenes totales con sus máscaras."
   ]
  },
  {
   "cell_type": "code",
   "execution_count": null,
   "metadata": {
    "id": "dZnY9fTNs68z"
   },
   "outputs": [],
   "source": [
    "# Juntamos las todas las imágenes.\n",
    "copy_folders_content([\"/content/wound-segmentation/data/Foot Ulcer Segmentation Challenge/train/images\", \"/content/wound-segmentation/data/Foot Ulcer Segmentation Challenge/validation/images\"], \"/content/FootSegmentation_4/images-unet/Ims_double/Imagenes\")\n",
    "# Juntamos las todas las máscaras.\n",
    "copy_folders_content([\"/content/wound-segmentation/data/Foot Ulcer Segmentation Challenge/train/labels\", \"/content/wound-segmentation/data/Foot Ulcer Segmentation Challenge/validation/labels\"], \"/content/FootSegmentation_4/images-unet/Ims_double/Mascaras\")"
   ]
  },
  {
   "cell_type": "markdown",
   "metadata": {
    "id": "ql0yZ0uTqVWT"
   },
   "source": [
    "## Creamos las carpetas dentro de *Ims_double* necesarias para el dataloader del modelo (-Esto es lo que ya se tenía en el otro código-):"
   ]
  },
  {
   "cell_type": "code",
   "execution_count": null,
   "metadata": {
    "colab": {
     "base_uri": "https://localhost:8080/"
    },
    "id": "UA1DvqGx04vN",
    "outputId": "d6cb2711-fd1d-4d4d-938f-4234bd28503e"
   },
   "outputs": [
    {
     "name": "stdout",
     "output_type": "stream",
     "text": [
      "División de datos completada. Train_size:  808  . Val_size:  101  . Test_size:  101\n",
      "Porcentajes:  80 - 10 - 10\n"
     ]
    }
   ],
   "source": [
    "import os\n",
    "import numpy as np\n",
    "from PIL import Image\n",
    "import shutil\n",
    "\n",
    "# Definir rutas\n",
    "data_dir = './FootSegmentation_4/images-unet/Ims_double/'  # Dirección de la carpeta Ims_double.\n",
    "images_dir = os.path.join(data_dir, 'Imagenes')\n",
    "masks_dir = os.path.join(data_dir, 'Mascaras')\n",
    "\n",
    "# Definir los porcentajes de división de los datos:\n",
    "train_size_perc = 0.80\n",
    "val_size_perc = 0.10\n",
    "test_size_perc = 1.0 - (train_size_perc + val_size_perc)\n",
    "\n",
    "# Crear nuevas carpetas para las divisiones\n",
    "train_images_dir = os.path.join(data_dir, 'train_images')\n",
    "train_masks_dir = os.path.join(data_dir, 'train_masks')\n",
    "val_images_dir = os.path.join(data_dir, 'val_images')\n",
    "val_masks_dir = os.path.join(data_dir, 'val_masks')\n",
    "test_images_dir = os.path.join(data_dir, 'test_images')\n",
    "test_masks_dir = os.path.join(data_dir, 'test_masks')\n",
    "\n",
    "# Crear directorios si no existen\n",
    "os.makedirs(train_images_dir, exist_ok=True)\n",
    "os.makedirs(train_masks_dir, exist_ok=True)\n",
    "os.makedirs(val_images_dir, exist_ok=True)\n",
    "os.makedirs(val_masks_dir, exist_ok=True)\n",
    "os.makedirs(test_images_dir, exist_ok=True)\n",
    "os.makedirs(test_masks_dir, exist_ok=True)\n",
    "\n",
    "# Obtener todas las imágenes y máscaras\n",
    "images = sorted(os.listdir(images_dir))  # Aseguramos que el orden sea consistente\n",
    "masks = sorted(os.listdir(masks_dir))\n",
    "\n",
    "# Verificamos que cada imagen tenga su máscara correspondiente\n",
    "assert len(images) == len(masks), \"El número de imágenes y máscaras no coincide\"\n",
    "\n",
    "# Asegurarse de que las imágenes y máscaras coinciden por nombre\n",
    "# for img, mask in zip(images, masks):\n",
    "    # assert img.split('.')[0] +'_mask' == mask.split('.')[0], f\"Imagen y máscara no coinciden: {img} y {mask}\"\n",
    "\n",
    "# Mezclar datos aleatoriamente\n",
    "indices = np.arange(len(images))\n",
    "np.random.shuffle(indices)\n",
    "\n",
    "# Calcular los tamaños de los conjuntos\n",
    "train_size = int(train_size_perc * len(images))\n",
    "val_size = int(val_size_perc * len(images))\n",
    "test_size = len(images) - train_size - val_size\n",
    "\n",
    "\n",
    "\n",
    "train_indices = indices[:train_size]\n",
    "val_indices = indices[train_size:train_size + val_size]\n",
    "test_indices = indices[train_size + val_size:]\n",
    "\n",
    "# Función para copiar archivos\n",
    "def copy_files(indices, src_images_dir, src_masks_dir, dest_images_dir, dest_masks_dir):\n",
    "    for idx in indices:\n",
    "        img_file = images[idx]\n",
    "        mask_file = masks[idx]\n",
    "\n",
    "        img_path = os.path.join(src_images_dir, img_file)\n",
    "        mask_path = os.path.join(src_masks_dir, mask_file)\n",
    "\n",
    "        shutil.copy(img_path, os.path.join(dest_images_dir, img_file))\n",
    "        shutil.copy(mask_path, os.path.join(dest_masks_dir, mask_file))\n",
    "\n",
    "# Copiar archivos a las carpetas correspondientes\n",
    "copy_files(train_indices, images_dir, masks_dir, train_images_dir, train_masks_dir)\n",
    "copy_files(val_indices, images_dir, masks_dir, val_images_dir, val_masks_dir)\n",
    "copy_files(test_indices, images_dir, masks_dir, test_images_dir, test_masks_dir)\n",
    "\n",
    "print(\"División de datos completada. Train_size: \", train_size, \" . Val_size: \", val_size, \" . Test_size: \", test_size )\n",
    "print(\"Porcentajes: \",int(train_size_perc*100),'-',int(val_size_perc*100),'-',int(round(test_size_perc*100)))"
   ]
  },
  {
   "cell_type": "code",
   "execution_count": null,
   "metadata": {
    "colab": {
     "base_uri": "https://localhost:8080/"
    },
    "id": "1SzySswzpdpW",
    "outputId": "01af4bf0-5040-41ca-fc93-1b5ae1172989"
   },
   "outputs": [
    {
     "data": {
      "text/plain": [
       "(808, 808)"
      ]
     },
     "execution_count": 8,
     "metadata": {},
     "output_type": "execute_result"
    }
   ],
   "source": [
    "count_files_in_folder(\"/content/FootSegmentation_4/images-unet/Ims_double/train_images\"), count_files_in_folder(\"/content/FootSegmentation_4/images-unet/Ims_double/train_masks\")"
   ]
  },
  {
   "cell_type": "code",
   "execution_count": null,
   "metadata": {
    "id": "fRjdTQm-pdnC"
   },
   "outputs": [],
   "source": [
    "# prompt: Borra la carpeta /content/FootSegmentation_4/images-unet/Ims_double con todo su contenido\n",
    "\n",
    "# # BORRAR CARPETA, cuidado!\n",
    "# import shutil\n",
    "\n",
    "# shutil.rmtree('/content/FootSegmentation_4/images-unet/Ims_double', ignore_errors=True)"
   ]
  },
  {
   "cell_type": "markdown",
   "metadata": {
    "id": "6LaVpWnh6VAY"
   },
   "source": [
    "# Definición del modelo:"
   ]
  },
  {
   "cell_type": "code",
   "execution_count": null,
   "metadata": {
    "id": "r54y7S-a-Mk5"
   },
   "outputs": [],
   "source": [
    "# Creamos la carpeta donde se guardan las predicciones durante el entrenamiento (Importante):\n",
    "# !mkdir /content/saved_images/"
   ]
  },
  {
   "cell_type": "markdown",
   "metadata": {
    "id": "U1mw6-eeIShv"
   },
   "source": [
    "`main.py` :"
   ]
  },
  {
   "cell_type": "code",
   "execution_count": null,
   "metadata": {
    "id": "YJXA3Y5w3eVx"
   },
   "outputs": [],
   "source": [
    "import torch\n",
    "import torch.nn as nn\n",
    "import torch.nn.functional as F\n",
    "import  torchvision.transforms.functional as TF\n",
    "\n",
    "# class conv_block(nn.Module):\n",
    "#     def __init__(self, in_c, out_c, act=True):\n",
    "#         super().__init__()\n",
    "#         layers = [nn.Conv2d(in_c, out_c, kernel_size=3, padding=1)]\n",
    "#         if act:\n",
    "#             layers.append(nn.BatchNorm2d(out_c))\n",
    "#             layers.append(nn.ReLU(inplace=True))\n",
    "#         self.conv = nn.Sequential(*layers)\n",
    "\n",
    "#     def forward(self, x):\n",
    "#         return self.conv(x)\n",
    "\n",
    "# class encoder_block(nn.Module):\n",
    "#     def __init__(self, in_c, out_c):\n",
    "#         super().__init__()\n",
    "#         self.c1 = nn.Sequential(\n",
    "#             conv_block(in_c, out_c),\n",
    "#             conv_block(out_c, out_c)\n",
    "#         )\n",
    "#         self.p1 = nn.MaxPool2d((2, 2))\n",
    "\n",
    "#     def forward(self, x):\n",
    "#         x = self.c1(x)\n",
    "#         p = self.p1(x)\n",
    "#         return x, p\n",
    "\n",
    "# Bloque de código de cada capa de la Unet (donde se aplican las dos convoluciones, Además se aplica el btchnorm):\n",
    "class DoubleConv(nn.Module):\n",
    "    def __init__(self, in_channels, out_channels):\n",
    "        super(DoubleConv, self).__init__()\n",
    "        self.conv = nn.Sequential(\n",
    "            nn.Conv2d(in_channels, out_channels, 3, 1, 1, bias = False),\n",
    "            nn.BatchNorm2d(out_channels),\n",
    "            nn.ReLU(inplace=True),\n",
    "            nn.Conv2d(out_channels, out_channels, 3, 1, 1, bias = False),\n",
    "            nn.BatchNorm2d(out_channels),\n",
    "            nn.ReLU(inplace=True),\n",
    "        )\n",
    "\n",
    "    def forward(self, x):\n",
    "        return self.conv(x)\n",
    "\n",
    "# class unet3plus(nn.Module):\n",
    "#     def __init__(self, in_channels=3, out_channels=1):\n",
    "#         super().__init__()\n",
    "#         \"\"\" Encoder \"\"\"\n",
    "#         self.e1 = encoder_block(in_channels, 64)\n",
    "#         self.e2 = encoder_block(64, 128)\n",
    "#         self.e3 = encoder_block(128, 256)\n",
    "#         self.e4 = encoder_block(256, 512)\n",
    "\n",
    "#         \"\"\" Bottleneck \"\"\"\n",
    "#         self.e5 = nn.Sequential(\n",
    "#             conv_block(512, 1024),\n",
    "#             conv_block(1024, 1024)\n",
    "#         )\n",
    "\n",
    "#         \"\"\" Decoders \"\"\"\n",
    "#         self.e1_d4 = conv_block(64, 64)\n",
    "#         self.e2_d4 = conv_block(128, 64)\n",
    "#         self.e3_d4 = conv_block(256, 64)\n",
    "#         self.e4_d4 = conv_block(512, 64)\n",
    "#         self.e5_d4 = conv_block(1024, 64)\n",
    "#         self.d4 = conv_block(64 * 5, 64)\n",
    "\n",
    "#         self.e1_d3 = conv_block(64, 64)\n",
    "#         self.e2_d3 = conv_block(128, 64)\n",
    "#         self.e3_d3 = conv_block(256, 64)\n",
    "#         self.e4_d3 = conv_block(64, 64)\n",
    "#         self.e5_d3 = conv_block(1024, 64)\n",
    "#         self.d3 = conv_block(64 * 5, 64)\n",
    "\n",
    "#         self.e1_d2 = conv_block(64, 64)\n",
    "#         self.e2_d2 = conv_block(128, 64)\n",
    "#         self.e3_d2 = conv_block(64, 64)\n",
    "#         self.e4_d2 = conv_block(64, 64)\n",
    "#         self.e5_d2 = conv_block(1024, 64)\n",
    "#         self.d2 = conv_block(64 * 5, 64)\n",
    "\n",
    "#         self.e1_d1 = conv_block(64, 64)\n",
    "#         self.e2_d1 = conv_block(64, 64)\n",
    "#         self.e3_d1 = conv_block(64, 64)\n",
    "#         self.e4_d1 = conv_block(64, 64)\n",
    "#         self.e5_d1 = conv_block(1024, 64)\n",
    "#         self.d1 = conv_block(64 * 5, 64)\n",
    "\n",
    "#         \"\"\" Output \"\"\"\n",
    "#         self.y1 = nn.Conv2d(64, out_channels, kernel_size=1)\n",
    "\n",
    "#     def forward(self, inputs):\n",
    "#         e1, p1 = self.e1(inputs)\n",
    "#         e2, p2 = self.e2(p1)\n",
    "#         e3, p3 = self.e3(p2)\n",
    "#         e4, p4 = self.e4(p3)\n",
    "\n",
    "#         \"\"\" Bottleneck \"\"\"\n",
    "#         e5 = self.e5(p4)\n",
    "\n",
    "#         \"\"\" Decoder 4 \"\"\"\n",
    "#         e1_d4 = F.max_pool2d(e1, kernel_size=8, stride=8)\n",
    "#         e1_d4 = self.e1_d4(e1_d4)\n",
    "#         e2_d4 = F.max_pool2d(e2, kernel_size=4, stride=4)\n",
    "#         e2_d4 = self.e2_d4(e2_d4)\n",
    "#         e3_d4 = F.max_pool2d(e3, kernel_size=2, stride=2)\n",
    "#         e3_d4 = self.e3_d4(e3_d4)\n",
    "#         e4_d4 = self.e4_d4(e4)\n",
    "#         e5_d4 = F.interpolate(e5, scale_factor=2, mode=\"bilinear\", align_corners=True)\n",
    "#         e5_d4 = self.e5_d4(e5_d4)\n",
    "#         d4 = torch.cat([e1_d4, e2_d4, e3_d4, e4_d4, e5_d4], dim=1)\n",
    "#         d4 = self.d4(d4)\n",
    "\n",
    "#         \"\"\" Decoder 3 \"\"\"\n",
    "#         e1_d3 = F.max_pool2d(e1, kernel_size=4, stride=4)\n",
    "#         e1_d3 = self.e1_d3(e1_d3)\n",
    "#         e2_d3 = F.max_pool2d(e2, kernel_size=2, stride=2)\n",
    "#         e2_d3 = self.e2_d3(e2_d3)\n",
    "#         e3_d3 = self.e3_d3(e3)\n",
    "#         e4_d3 = F.interpolate(d4, scale_factor=2, mode=\"bilinear\", align_corners=True)\n",
    "#         e4_d3 = self.e4_d3(e4_d3)\n",
    "#         e5_d3 = F.interpolate(e5, scale_factor=4, mode=\"bilinear\", align_corners=True)\n",
    "#         e5_d3 = self.e5_d3(e5_d3)\n",
    "#         d3 = torch.cat([e1_d3, e2_d3, e3_d3, e4_d3, e5_d3], dim=1)\n",
    "#         d3 = self.d3(d3)\n",
    "\n",
    "#         \"\"\" Decoder 2 \"\"\"\n",
    "#         e1_d2 = F.max_pool2d(e1, kernel_size=2, stride=2)\n",
    "#         e1_d2 = self.e1_d2(e1_d2)\n",
    "#         e2_d2 = self.e2_d2(e2)\n",
    "#         e3_d2 = F.interpolate(d3, scale_factor=2, mode=\"bilinear\", align_corners=True)\n",
    "#         e3_d2 = self.e3_d2(e3_d2)\n",
    "#         e4_d2 = F.interpolate(d4, scale_factor=4, mode=\"bilinear\", align_corners=True)\n",
    "#         e4_d2 = self.e4_d2(e4_d2)\n",
    "#         e5_d2 = F.interpolate(e5, scale_factor=8, mode=\"bilinear\", align_corners=True)\n",
    "#         e5_d2 = self.e5_d2(e5_d2)\n",
    "#         d2 = torch.cat([e1_d2, e2_d2, e3_d2, e4_d2, e5_d2], dim=1)\n",
    "#         d2 = self.d2(d2)\n",
    "\n",
    "#         \"\"\" Decoder 1 \"\"\"\n",
    "#         e1_d1 = self.e1_d1(e1)\n",
    "#         e2_d1 = F.interpolate(d2, scale_factor=2, mode=\"bilinear\", align_corners=True)\n",
    "#         e2_d1 = self.e2_d1(e2_d1)\n",
    "#         e3_d1 = F.interpolate(d3, scale_factor=4, mode=\"bilinear\", align_corners=True)\n",
    "#         e3_d1 = self.e3_d1(e3_d1)\n",
    "#         e4_d1 = F.interpolate(d4, scale_factor=8, mode=\"bilinear\", align_corners=True)\n",
    "#         e4_d1 = self.e4_d1(e4_d1)\n",
    "#         e5_d1 = F.interpolate(e5, scale_factor=16, mode=\"bilinear\", align_corners=True)\n",
    "#         e5_d1 = self.e5_d1(e5_d1)\n",
    "#         d1 = torch.cat([e1_d1, e2_d1, e3_d1, e4_d1, e5_d1], dim=1)\n",
    "#         d1 = self.d1(d1)\n",
    "\n",
    "#         \"\"\" Output \"\"\"\n",
    "#         y1 = self.y1(d1)\n",
    "#         return y1\n",
    "\n",
    "class UNET(nn.Module):\n",
    "    def __init__(\n",
    "        self, in_channels=3, out_channels=1, features=[64, 128, 256, 512],\n",
    "    ):\n",
    "        super(UNET, self).__init__()\n",
    "        self.downs = nn.ModuleList()\n",
    "        self.ups = nn.ModuleList()\n",
    "        self.pool = nn.MaxPool2d(kernel_size = 2, stride=2)\n",
    "\n",
    "        # Down part of Unet:\n",
    "        for feature in features:\n",
    "            self.downs.append(DoubleConv(in_channels, feature))\n",
    "            in_channels = feature\n",
    "\n",
    "        # Up part of Unet:\n",
    "        for feature in reversed(features):\n",
    "            self.ups.append(\n",
    "                nn.ConvTranspose2d(\n",
    "                    feature*2, feature, kernel_size=2, stride=2,\n",
    "                )\n",
    "            )\n",
    "            self.ups.append(DoubleConv(feature*2, feature))\n",
    "\n",
    "        self.bottlenech = DoubleConv(features[-1], features[-1]*2) # Medium part\n",
    "        self.final_conv = nn.Conv2d(features[0], out_channels, kernel_size=1) #Final part\n",
    "\n",
    "\n",
    "    def forward(self, x):\n",
    "        skip_connections = []\n",
    "        for down in self.downs:\n",
    "            x = down(x)\n",
    "            skip_connections.append(x)\n",
    "            x = self.pool(x)\n",
    "\n",
    "        x = self.bottlenech(x)\n",
    "        skip_connections = skip_connections[::-1]\n",
    "\n",
    "        for idx in range(0, len(self.ups), 2):\n",
    "            x = self.ups[idx](x)\n",
    "            skip_connection = skip_connections[idx//2]\n",
    "\n",
    "            if x.shape != skip_connection.shape:\n",
    "                x = TF.resize(x, size=skip_connection.shape[2:])\n",
    "\n",
    "            concat_skip = torch.cat((skip_connection, x), dim=1)\n",
    "            x = self.ups[idx+1](concat_skip)\n",
    "\n",
    "        return self.final_conv(x)\n",
    "\n",
    "\n",
    "def test():\n",
    "    x = torch.randn((3, 1, 160, 160))\n",
    "    model = UNET(in_channels=1, out_channels=1)\n",
    "    preds = model(x)\n",
    "    print(preds.shape)\n",
    "    print(x.shape)\n",
    "    assert preds.shape == x.shape"
   ]
  },
  {
   "cell_type": "code",
   "execution_count": null,
   "metadata": {
    "colab": {
     "base_uri": "https://localhost:8080/"
    },
    "id": "Rb_-UarA37PN",
    "outputId": "389ecf47-d6ac-4de4-e630-604630300840"
   },
   "outputs": [
    {
     "name": "stdout",
     "output_type": "stream",
     "text": [
      "torch.Size([3, 1, 160, 160])\n",
      "torch.Size([3, 1, 160, 160])\n"
     ]
    }
   ],
   "source": [
    "test()"
   ]
  },
  {
   "cell_type": "code",
   "execution_count": null,
   "metadata": {
    "id": "BB8KlWfnILQ6"
   },
   "outputs": [],
   "source": [
    "# import torch\n",
    "# import torch.nn as nn\n",
    "# import  torchvision.transforms.functional as TF\n",
    "\n",
    "# # Bloque de código de cada capa de la Unet (donde se aplican las dos convoluciones, Además se aplica el btchnorm):\n",
    "# class DoubleConv(nn.Module):\n",
    "#     def __init__(self, in_channels, out_channels):\n",
    "#         super(DoubleConv, self).__init__()\n",
    "#         self.conv = nn.Sequential(\n",
    "#             nn.Conv2d(in_channels, out_channels, 3, 1, 1, bias = False),\n",
    "#             nn.BatchNorm2d(out_channels),\n",
    "#             nn.ReLU(inplace=True),\n",
    "#             nn.Conv2d(out_channels, out_channels, 3, 1, 1, bias = False),\n",
    "#             nn.BatchNorm2d(out_channels),\n",
    "#             nn.ReLU(inplace=True),\n",
    "#         )\n",
    "\n",
    "#     def forward(self, x):\n",
    "#         return self.conv(x)\n",
    "\n",
    "# class UNET(nn.Module):\n",
    "#     def __init__(\n",
    "#         self, in_channels=3, out_channels=1, features=[64, 128, 256, 512],\n",
    "#     ):\n",
    "#         super(UNET, self).__init__()\n",
    "#         self.downs = nn.ModuleList()\n",
    "#         self.ups = nn.ModuleList()\n",
    "#         self.pool = nn.MaxPool2d(kernel_size = 2, stride=2)\n",
    "\n",
    "#         # Down part of Unet:\n",
    "#         for feature in features:\n",
    "#             self.downs.append(DoubleConv(in_channels, feature))\n",
    "#             in_channels = feature\n",
    "\n",
    "#         # Up part of Unet:\n",
    "#         for feature in reversed(features):\n",
    "#             self.ups.append(\n",
    "#                 nn.ConvTranspose2d(\n",
    "#                     feature*2, feature, kernel_size=2, stride=2,\n",
    "#                 )\n",
    "#             )\n",
    "#             self.ups.append(DoubleConv(feature*2, feature))\n",
    "\n",
    "#         self.bottlenech = DoubleConv(features[-1], features[-1]*2) # Medium part\n",
    "#         self.final_conv = nn.Conv2d(features[0], out_channels, kernel_size=1) #Final part\n",
    "\n",
    "\n",
    "#     def forward(self, x):\n",
    "#         skip_connections = []\n",
    "#         for down in self.downs:\n",
    "#             x = down(x)\n",
    "#             skip_connections.append(x)\n",
    "#             x = self.pool(x)\n",
    "\n",
    "#         x = self.bottlenech(x)\n",
    "#         skip_connections = skip_connections[::-1]\n",
    "\n",
    "#         for idx in range(0, len(self.ups), 2):\n",
    "#             x = self.ups[idx](x)\n",
    "#             skip_connection = skip_connections[idx//2]\n",
    "\n",
    "#             if x.shape != skip_connection.shape:\n",
    "#                 x = TF.resize(x, size=skip_connection.shape[2:])\n",
    "\n",
    "#             concat_skip = torch.cat((skip_connection, x), dim=1)\n",
    "#             x = self.ups[idx+1](concat_skip)\n",
    "\n",
    "#         return self.final_conv(x)\n",
    "\n",
    "# def test():\n",
    "#     x = torch.randn((3, 1, 161, 161))\n",
    "#     model = UNET(in_channels=1, out_channels=1)\n",
    "#     preds = model(x)\n",
    "#     print(preds.shape)\n",
    "#     print(x.shape)\n",
    "#     assert preds.shape == x.shape\n",
    "\n",
    "# # if __name__ == \"__main__\":\n",
    "# #     test()"
   ]
  },
  {
   "cell_type": "markdown",
   "metadata": {
    "id": "tAsA7OhWIxLK"
   },
   "source": [
    "`dataset.py` :"
   ]
  },
  {
   "cell_type": "code",
   "execution_count": null,
   "metadata": {
    "id": "-OxjkCgaIvlU"
   },
   "outputs": [],
   "source": [
    "import os\n",
    "from PIL import Image\n",
    "from torch.utils.data import Dataset\n",
    "import numpy as np\n",
    "\n",
    "\n",
    "class MiccaiDataset(Dataset):\n",
    "    def __init__(self, image_dir, mask_dir, transform=None):\n",
    "        self.image_dir = image_dir\n",
    "        self.mask_dir = mask_dir\n",
    "        self.transform =  transform\n",
    "        self.images = os.listdir(image_dir)\n",
    "\n",
    "    def __len__(self):\n",
    "        return len(self.images)\n",
    "\n",
    "    def __getitem__(self, index):\n",
    "        img_path = os.path.join(self.image_dir, self.images[index])\n",
    "        mask_path = os.path.join(self.mask_dir, self.images[index])\n",
    "        image = np.array(Image.open(img_path).convert(\"RGB\"))\n",
    "        mask = np.array(Image.open(mask_path).convert(\"L\"), dtype=np.float32)\n",
    "        mask[mask == 255.0] = 1.0\n",
    "\n",
    "        if self.transform is not None:\n",
    "            augmentations = self.transform(image=image, mask=mask)\n",
    "            image = augmentations[\"image\"]\n",
    "            mask = augmentations[\"mask\"]\n",
    "        return image, mask"
   ]
  },
  {
   "cell_type": "markdown",
   "metadata": {
    "id": "b-OlRwtiJSok"
   },
   "source": [
    "`utils.py`:"
   ]
  },
  {
   "cell_type": "code",
   "execution_count": null,
   "metadata": {
    "id": "97jEGqPIJX5U"
   },
   "outputs": [],
   "source": [
    "import torch\n",
    "import torchvision\n",
    "# from dataset import MiccaiDataset\n",
    "from torch.utils.data import DataLoader\n",
    "\n",
    "def save_checkpoint(state, filename=\"my_checkpoint.pth.tar\"):\n",
    "    print(\"=> Saving checkpoint\")\n",
    "    torch.save(state, filename)\n",
    "\n",
    "def load_checkpoint(checkpoint, model):\n",
    "    print(\"=> Loading checkpoint\")\n",
    "    model.load_state_dict(checkpoint[\"state_dict\"])\n",
    "\n",
    "def get_loaders(\n",
    "    train_dir,\n",
    "    train_maskdir,\n",
    "    val_dir,\n",
    "    val_maskdir,\n",
    "    batch_size,\n",
    "    train_transform,\n",
    "    val_transform,\n",
    "    num_workers=4,\n",
    "    pin_memory = True,\n",
    "):\n",
    "    train_ds = MiccaiDataset(\n",
    "        image_dir=train_dir,\n",
    "        mask_dir=train_maskdir,\n",
    "        transform=train_transform,\n",
    "    )\n",
    "\n",
    "    train_loader = DataLoader(\n",
    "        train_ds,\n",
    "        batch_size=batch_size,\n",
    "        num_workers=num_workers,\n",
    "        pin_memory=pin_memory,\n",
    "        shuffle=True,\n",
    "    )\n",
    "\n",
    "    val_ds = MiccaiDataset(\n",
    "        image_dir=val_dir,\n",
    "        mask_dir=val_maskdir,\n",
    "        transform=val_transform,\n",
    "    )\n",
    "\n",
    "    val_loader = DataLoader(\n",
    "        val_ds,\n",
    "        batch_size=batch_size,\n",
    "        num_workers=num_workers,\n",
    "        pin_memory=pin_memory,\n",
    "        shuffle=False,\n",
    "    )\n",
    "\n",
    "    return train_loader, val_loader\n",
    "\n",
    "def check_dice_acc(loader, model, device=\"cuda\"):\n",
    "    num_correct = 0\n",
    "    num_pixels = 0\n",
    "    dice_score = 0\n",
    "    model.eval()\n",
    "\n",
    "    with torch.no_grad():\n",
    "        for x, y in loader:\n",
    "            x = x.to(device)\n",
    "            y = y.to(device).unsqueeze(1)\n",
    "            preds = torch.sigmoid(model(x))\n",
    "            preds =  (preds > 0.5).float()\n",
    "            num_correct += (preds == y).sum()\n",
    "            num_pixels += (torch.numel(preds))\n",
    "            dice_score += (2* (preds * y).sum()) / (\n",
    "                (preds + y).sum() + 1e-8\n",
    "            )\n",
    "\n",
    "    accuracy = num_correct / num_pixels if num_pixels > 0 else 0 # Calculate accuracy\n",
    "    print(\n",
    "        f\"Got {num_correct}/{num_pixels} with acc {accuracy*100:.3f}\"\n",
    "    )\n",
    "\n",
    "    print(f\"Dice score: {dice_score/len(loader)}\")\n",
    "    model.train()\n",
    "    return dice_score/len(loader), accuracy\n",
    "\n",
    "def save_predictions_as_imgs(\n",
    "        loader, model, folder=\"saved_images/\", device=\"cuda\"\n",
    "):\n",
    "    model.eval()\n",
    "    for idx, (x, y) in enumerate(loader):\n",
    "        x = x.to(device=device)\n",
    "        with torch.no_grad():\n",
    "            preds = torch.sigmoid(model(x))\n",
    "            preds = (preds > 0.5).float()\n",
    "        torchvision.utils.save_image(\n",
    "            preds, f\"{folder}/pred_{idx}.png\"\n",
    "        )\n",
    "        # torchvision.utils.save_image(y.unsqueeze(1), f\"{folder}\")  # para colab\n",
    "        torchvision.utils.save_image(y.unsqueeze(1), f\"{folder}/target_{idx}.png\")\n",
    "\n",
    "    model.train()"
   ]
  },
  {
   "cell_type": "markdown",
   "metadata": {
    "id": "Mm1aIVriJGSq"
   },
   "source": [
    "`train.py` :"
   ]
  },
  {
   "cell_type": "code",
   "execution_count": null,
   "metadata": {
    "id": "9QKJUD4_mikp"
   },
   "outputs": [],
   "source": [
    "from re import L\n",
    "import torch\n",
    "import albumentations as A\n",
    "from albumentations.pytorch import ToTensorV2\n",
    "from tqdm import tqdm\n",
    "import torch.nn as nn\n",
    "import torch.optim as optim\n",
    "\n",
    "\n",
    "def dice_loss(input, target):\n",
    "    smooth = 1.0\n",
    "    input = torch.sigmoid(input)  # Aplicar sigmoide para obtener probabilidades\n",
    "    iflat = input.view(-1)\n",
    "    tflat = target.view(-1)\n",
    "    intersection = (iflat * tflat).sum()\n",
    "    return 1 - ((2. * intersection + smooth) /\n",
    "                (iflat.sum() + tflat.sum() + smooth))\n",
    "\n",
    "\n",
    "# Hyperparameters etc.\n",
    "LEARNING_RATE = 5e-5\n",
    "DEVICE = torch.device(\"cuda\" if torch.cuda.is_available() else \"cpu\")\n",
    "BATCH_SIZE = 16\n",
    "# NUM_EPOCHS = 83\n",
    "NUM_WORKERS = 2\n",
    "IMAGE_HEIGHT = 240\n",
    "IMAGE_WIDTH = 240\n",
    "PIN_MEMORY = True\n",
    "LOAD_MODEL = True\n",
    "# TRAIN_IMG_DIR = \"FootSegmentation_4/images-unet/IMs29Ago/train_images\"\n",
    "# TRAIN_MASK_DIR = \"FootSegmentation_4/images-unet/IMs29Ago/train_masks\"\n",
    "# VAL_IMG_DIR = \"FootSegmentation_4/images-unet/IMs29Ago/val_images\"\n",
    "# VAL_MASK_DIR = \"FootSegmentation_4/images-unet/IMs29Ago/val_masks\"\n",
    "# TRAIN_IMG_DIR = \"/content/wound-segmentation/data/Foot Ulcer Segmentation Challenge/train/images\"\n",
    "# TRAIN_MASK_DIR = \"/content/wound-segmentation/data/Foot Ulcer Segmentation Challenge/train/labels\"\n",
    "# VAL_IMG_DIR = \"/content/wound-segmentation/data/Foot Ulcer Segmentation Challenge/validation/images\"\n",
    "# VAL_MASK_DIR = \"/content/wound-segmentation/data/Foot Ulcer Segmentation Challenge/validation/labels\"\n",
    "TRAIN_IMG_DIR = \"/content/FootSegmentation_4/images-unet/Ims_double/train_images\"\n",
    "TRAIN_MASK_DIR = \"/content/FootSegmentation_4/images-unet/Ims_double/train_masks\"\n",
    "VAL_IMG_DIR = \"/content/FootSegmentation_4/images-unet/Ims_double/val_images\"\n",
    "VAL_MASK_DIR = \"/content/FootSegmentation_4/images-unet/Ims_double/val_masks\"\n",
    "\n",
    "def train_fn(loader, model, optimizer, loss_fn, scaler):\n",
    "    loop = tqdm(loader)\n",
    "    total_loss = 0  # Inicializar la pérdida total\n",
    "    num_batches = 0  # Inicializar el contador de batches\n",
    "\n",
    "    for batch_idx, (data, targets) in enumerate(loop):\n",
    "        data = data.to(device=DEVICE)\n",
    "        targets = targets.float().unsqueeze(1).to(device=DEVICE)\n",
    "\n",
    "        # forward:\n",
    "        with torch.cuda.amp.autocast():\n",
    "            predictions = model(data)\n",
    "            loss = loss_fn(predictions, targets)\n",
    "\n",
    "        # backward:\n",
    "        optimizer.zero_grad()\n",
    "        scaler.scale(loss).backward()\n",
    "        scaler.step(optimizer)\n",
    "        scaler.update()\n",
    "\n",
    "        # update tqdm loop\n",
    "        loop.set_postfix(loss=loss.item)\n",
    "\n",
    "        # Acumular la pérdida y contar los batches\n",
    "        total_loss += loss.item()\n",
    "        num_batches += 1\n",
    "\n",
    "    avg_loss = total_loss / num_batches\n",
    "\n",
    "    return avg_loss  # Devolver la pérdida promedio\n",
    "\n",
    "\n",
    "def main(NUM_EPOCHS=10):\n",
    "    train_transform = A.Compose(\n",
    "        [\n",
    "            A.Resize(height=IMAGE_HEIGHT, width=IMAGE_WIDTH),\n",
    "            A.Rotate(limit=35, p=0.5),\n",
    "            A.HorizontalFlip(p=0.5),\n",
    "            A.VerticalFlip(p=0.1),\n",
    "            A.Normalize(\n",
    "                mean=[0.0, 0.0, 0.0],\n",
    "                std=[1.0, 1.0, 1.0],\n",
    "                max_pixel_value=255.0,\n",
    "            ),\n",
    "            ToTensorV2(),\n",
    "        ]\n",
    "    )\n",
    "    val_transforms = A.Compose(\n",
    "        [\n",
    "            A.Resize(height=IMAGE_HEIGHT, width=IMAGE_WIDTH),\n",
    "            A.Normalize(\n",
    "                mean=[0.0, 0.0, 0.0],\n",
    "                std=[1.0, 1.0, 1.0],\n",
    "                max_pixel_value=255.0,\n",
    "            ),\n",
    "            ToTensorV2()\n",
    "        ],\n",
    "    )\n",
    "\n",
    "    model = UNET(in_channels=3, out_channels=1).to(DEVICE)\n",
    "    # loss_fn = nn.BCEWithLogitsLoss()\n",
    "    loss_fn = dice_loss\n",
    "    optimizer = optim.Adam(model.parameters(), lr=LEARNING_RATE)\n",
    "    scheduler = torch.optim.lr_scheduler.ReduceLROnPlateau(optimizer, 'min', patience=5) # Reduce LR if validation loss plateaus\n",
    "\n",
    "    train_loader, val_loader = get_loaders(\n",
    "        TRAIN_IMG_DIR,\n",
    "        TRAIN_MASK_DIR,\n",
    "        VAL_IMG_DIR,\n",
    "        VAL_MASK_DIR,\n",
    "        BATCH_SIZE,\n",
    "        train_transform,\n",
    "        val_transforms,\n",
    "        NUM_WORKERS,\n",
    "        PIN_MEMORY\n",
    "    )\n",
    "\n",
    "    # if LOAD_MODEL:\n",
    "    #     load_checkpoint(torch.load(\"my_checkpoint.pth.tar\"), model)\n",
    "\n",
    "    scaler = torch.cuda.amp.GradScaler()\n",
    "    L_dice = []\n",
    "    L_loss = []\n",
    "    L_accuracy = []\n",
    "    best_dice_score = 0.0\n",
    "\n",
    "    for epoch in range(NUM_EPOCHS):\n",
    "        print(f\"Epoch: {epoch + 1}\")\n",
    "        epoch_loss = train_fn(train_loader, model, optimizer, loss_fn, scaler)\n",
    "        L_loss.append(epoch_loss)\n",
    "        scheduler.step(epoch_loss) # Update scheduler based on training loss\n",
    "\n",
    "        # Check accuracy on validation set\n",
    "        dc, acc = check_dice_acc(val_loader, model, device=DEVICE)\n",
    "        L_dice.append(dc)\n",
    "        L_accuracy.append(acc)\n",
    "\n",
    "        # Save best model, based in dice score.\n",
    "        if dc > best_dice_score:\n",
    "          best_dice_score = dc\n",
    "          checkpoint = {\n",
    "              \"state_dict\": model.state_dict(),\n",
    "              \"optimizer\": optimizer.state_dict(),\n",
    "          }\n",
    "          # torch.save(checkpoint, f\"model_checkpoint_epoch_{epoch+1}.pth\")\n",
    "          torch.save(checkpoint, \"best_model_checkpoint.pth\")\n",
    "\n",
    "        # Save some example predictions to a folder\n",
    "        save_predictions_as_imgs(\n",
    "            val_loader, model, folder=\"saved_images/\", device=DEVICE\n",
    "        )\n",
    "    return model, L_dice, L_loss, L_accuracy"
   ]
  },
  {
   "cell_type": "markdown",
   "metadata": {
    "id": "TVyA3Wb6BwY5"
   },
   "source": [
    "## Entrenamos el modelo:"
   ]
  },
  {
   "cell_type": "code",
   "execution_count": null,
   "metadata": {
    "colab": {
     "base_uri": "https://localhost:8080/"
    },
    "id": "dJ3g4cLAmmqO",
    "outputId": "33a0bbaf-2598-4967-f0a0-83b3c6777909"
   },
   "outputs": [
    {
     "name": "stderr",
     "output_type": "stream",
     "text": [
      "<ipython-input-47-c2fd48f339fc>:123: FutureWarning: `torch.cuda.amp.GradScaler(args...)` is deprecated. Please use `torch.amp.GradScaler('cuda', args...)` instead.\n",
      "  scaler = torch.cuda.amp.GradScaler()\n"
     ]
    },
    {
     "name": "stdout",
     "output_type": "stream",
     "text": [
      "Epoch: 1\n"
     ]
    },
    {
     "name": "stderr",
     "output_type": "stream",
     "text": [
      "\r  0%|          | 0/51 [00:00<?, ?it/s]<ipython-input-47-c2fd48f339fc>:53: FutureWarning: `torch.cuda.amp.autocast(args...)` is deprecated. Please use `torch.amp.autocast('cuda', args...)` instead.\n",
      "  with torch.cuda.amp.autocast():\n",
      "100%|██████████| 51/51 [00:17<00:00,  2.88it/s, loss=<built-in method item of Tensor object at 0x783e1c1763e0>]\n"
     ]
    },
    {
     "name": "stdout",
     "output_type": "stream",
     "text": [
      "Got 5733145/5817600 with acc 98.548\n",
      "Dice score: 0.5895883440971375\n",
      "Epoch: 2\n"
     ]
    },
    {
     "name": "stderr",
     "output_type": "stream",
     "text": [
      "100%|██████████| 51/51 [00:18<00:00,  2.79it/s, loss=<built-in method item of Tensor object at 0x783e1c1b4db0>]\n"
     ]
    },
    {
     "name": "stdout",
     "output_type": "stream",
     "text": [
      "Got 5682652/5817600 with acc 97.680\n",
      "Dice score: 0.5911434292793274\n",
      "Epoch: 3\n"
     ]
    },
    {
     "name": "stderr",
     "output_type": "stream",
     "text": [
      "100%|██████████| 51/51 [00:20<00:00,  2.49it/s, loss=<built-in method item of Tensor object at 0x783e1c175f80>]\n"
     ]
    },
    {
     "name": "stdout",
     "output_type": "stream",
     "text": [
      "Got 5590835/5817600 with acc 96.102\n",
      "Dice score: 0.4746289551258087\n",
      "Epoch: 4\n"
     ]
    },
    {
     "name": "stderr",
     "output_type": "stream",
     "text": [
      "100%|██████████| 51/51 [00:18<00:00,  2.75it/s, loss=<built-in method item of Tensor object at 0x783e1c168310>]\n"
     ]
    },
    {
     "name": "stdout",
     "output_type": "stream",
     "text": [
      "Got 5662024/5817600 with acc 97.326\n",
      "Dice score: 0.5578983426094055\n",
      "Epoch: 5\n"
     ]
    },
    {
     "name": "stderr",
     "output_type": "stream",
     "text": [
      "100%|██████████| 51/51 [00:18<00:00,  2.80it/s, loss=<built-in method item of Tensor object at 0x783e1c180540>]\n"
     ]
    },
    {
     "name": "stdout",
     "output_type": "stream",
     "text": [
      "Got 5699014/5817600 with acc 97.962\n",
      "Dice score: 0.6015352010726929\n",
      "Epoch: 6\n"
     ]
    },
    {
     "name": "stderr",
     "output_type": "stream",
     "text": [
      "100%|██████████| 51/51 [00:18<00:00,  2.78it/s, loss=<built-in method item of Tensor object at 0x783e1c1b7420>]\n"
     ]
    },
    {
     "name": "stdout",
     "output_type": "stream",
     "text": [
      "Got 5692042/5817600 with acc 97.842\n",
      "Dice score: 0.5986704230308533\n",
      "Epoch: 7\n"
     ]
    },
    {
     "name": "stderr",
     "output_type": "stream",
     "text": [
      "100%|██████████| 51/51 [00:18<00:00,  2.73it/s, loss=<built-in method item of Tensor object at 0x783e1c182930>]\n"
     ]
    },
    {
     "name": "stdout",
     "output_type": "stream",
     "text": [
      "Got 5714274/5817600 with acc 98.224\n",
      "Dice score: 0.6520792245864868\n",
      "Epoch: 8\n"
     ]
    },
    {
     "name": "stderr",
     "output_type": "stream",
     "text": [
      "100%|██████████| 51/51 [00:18<00:00,  2.77it/s, loss=<built-in method item of Tensor object at 0x783e1c180d60>]\n"
     ]
    },
    {
     "name": "stdout",
     "output_type": "stream",
     "text": [
      "Got 5687986/5817600 with acc 97.772\n",
      "Dice score: 0.6101909875869751\n",
      "Epoch: 9\n"
     ]
    },
    {
     "name": "stderr",
     "output_type": "stream",
     "text": [
      "100%|██████████| 51/51 [00:18<00:00,  2.79it/s, loss=<built-in method item of Tensor object at 0x783e1c181710>]\n"
     ]
    },
    {
     "name": "stdout",
     "output_type": "stream",
     "text": [
      "Got 5578350/5817600 with acc 95.887\n",
      "Dice score: 0.4630759656429291\n",
      "Epoch: 10\n"
     ]
    },
    {
     "name": "stderr",
     "output_type": "stream",
     "text": [
      "100%|██████████| 51/51 [00:18<00:00,  2.75it/s, loss=<built-in method item of Tensor object at 0x783e1c1d14e0>]\n"
     ]
    },
    {
     "name": "stdout",
     "output_type": "stream",
     "text": [
      "Got 5755487/5817600 with acc 98.932\n",
      "Dice score: 0.7138707041740417\n",
      "Epoch: 11\n"
     ]
    },
    {
     "name": "stderr",
     "output_type": "stream",
     "text": [
      "100%|██████████| 51/51 [00:18<00:00,  2.78it/s, loss=<built-in method item of Tensor object at 0x783e1c182980>]\n"
     ]
    },
    {
     "name": "stdout",
     "output_type": "stream",
     "text": [
      "Got 5694338/5817600 with acc 97.881\n",
      "Dice score: 0.6114531755447388\n",
      "Epoch: 12\n"
     ]
    },
    {
     "name": "stderr",
     "output_type": "stream",
     "text": [
      "100%|██████████| 51/51 [00:18<00:00,  2.77it/s, loss=<built-in method item of Tensor object at 0x783e1c1d0180>]\n"
     ]
    },
    {
     "name": "stdout",
     "output_type": "stream",
     "text": [
      "Got 5689125/5817600 with acc 97.792\n",
      "Dice score: 0.599273681640625\n",
      "Epoch: 13\n"
     ]
    },
    {
     "name": "stderr",
     "output_type": "stream",
     "text": [
      "100%|██████████| 51/51 [00:18<00:00,  2.76it/s, loss=<built-in method item of Tensor object at 0x783e1c1835b0>]\n"
     ]
    },
    {
     "name": "stdout",
     "output_type": "stream",
     "text": [
      "Got 5619859/5817600 with acc 96.601\n",
      "Dice score: 0.5106346607208252\n",
      "Epoch: 14\n"
     ]
    },
    {
     "name": "stderr",
     "output_type": "stream",
     "text": [
      "100%|██████████| 51/51 [00:18<00:00,  2.77it/s, loss=<built-in method item of Tensor object at 0x783e1c1d4130>]\n"
     ]
    },
    {
     "name": "stdout",
     "output_type": "stream",
     "text": [
      "Got 5730263/5817600 with acc 98.499\n",
      "Dice score: 0.6814671158790588\n",
      "Epoch: 15\n"
     ]
    },
    {
     "name": "stderr",
     "output_type": "stream",
     "text": [
      "100%|██████████| 51/51 [00:18<00:00,  2.71it/s, loss=<built-in method item of Tensor object at 0x783e1c1ec590>]\n"
     ]
    },
    {
     "name": "stdout",
     "output_type": "stream",
     "text": [
      "Got 5737842/5817600 with acc 98.629\n",
      "Dice score: 0.7122332453727722\n",
      "Epoch: 16\n"
     ]
    },
    {
     "name": "stderr",
     "output_type": "stream",
     "text": [
      "100%|██████████| 51/51 [00:18<00:00,  2.77it/s, loss=<built-in method item of Tensor object at 0x783e1c1ec540>]\n"
     ]
    },
    {
     "name": "stdout",
     "output_type": "stream",
     "text": [
      "Got 5731485/5817600 with acc 98.520\n",
      "Dice score: 0.6946302056312561\n",
      "Epoch: 17\n"
     ]
    },
    {
     "name": "stderr",
     "output_type": "stream",
     "text": [
      "100%|██████████| 51/51 [00:18<00:00,  2.75it/s, loss=<built-in method item of Tensor object at 0x783e1c1ee4d0>]\n"
     ]
    },
    {
     "name": "stdout",
     "output_type": "stream",
     "text": [
      "Got 5767602/5817600 with acc 99.141\n",
      "Dice score: 0.7793914675712585\n",
      "Epoch: 18\n"
     ]
    },
    {
     "name": "stderr",
     "output_type": "stream",
     "text": [
      "100%|██████████| 51/51 [00:18<00:00,  2.77it/s, loss=<built-in method item of Tensor object at 0x783e1c1b6890>]\n"
     ]
    },
    {
     "name": "stdout",
     "output_type": "stream",
     "text": [
      "Got 5755010/5817600 with acc 98.924\n",
      "Dice score: 0.7313563823699951\n",
      "Epoch: 19\n"
     ]
    },
    {
     "name": "stderr",
     "output_type": "stream",
     "text": [
      "100%|██████████| 51/51 [00:18<00:00,  2.76it/s, loss=<built-in method item of Tensor object at 0x783e1c1d5670>]\n"
     ]
    },
    {
     "name": "stdout",
     "output_type": "stream",
     "text": [
      "Got 5727180/5817600 with acc 98.446\n",
      "Dice score: 0.6748697757720947\n",
      "Epoch: 20\n"
     ]
    },
    {
     "name": "stderr",
     "output_type": "stream",
     "text": [
      "100%|██████████| 51/51 [00:18<00:00,  2.72it/s, loss=<built-in method item of Tensor object at 0x783e1c1d6250>]\n"
     ]
    },
    {
     "name": "stdout",
     "output_type": "stream",
     "text": [
      "Got 5750961/5817600 with acc 98.855\n",
      "Dice score: 0.7404739260673523\n",
      "Epoch: 21\n"
     ]
    },
    {
     "name": "stderr",
     "output_type": "stream",
     "text": [
      "100%|██████████| 51/51 [00:18<00:00,  2.75it/s, loss=<built-in method item of Tensor object at 0x783e1c1d4950>]\n"
     ]
    },
    {
     "name": "stdout",
     "output_type": "stream",
     "text": [
      "Got 5775996/5817600 with acc 99.285\n",
      "Dice score: 0.7922466993331909\n",
      "Epoch: 22\n"
     ]
    },
    {
     "name": "stderr",
     "output_type": "stream",
     "text": [
      "100%|██████████| 51/51 [00:18<00:00,  2.76it/s, loss=<built-in method item of Tensor object at 0x783e1c1d1300>]\n"
     ]
    },
    {
     "name": "stdout",
     "output_type": "stream",
     "text": [
      "Got 5754938/5817600 with acc 98.923\n",
      "Dice score: 0.7578715682029724\n",
      "Epoch: 23\n"
     ]
    },
    {
     "name": "stderr",
     "output_type": "stream",
     "text": [
      "100%|██████████| 51/51 [00:18<00:00,  2.70it/s, loss=<built-in method item of Tensor object at 0x783e04f01d50>]\n"
     ]
    },
    {
     "name": "stdout",
     "output_type": "stream",
     "text": [
      "Got 5759187/5817600 with acc 98.996\n",
      "Dice score: 0.7588508129119873\n",
      "Epoch: 24\n"
     ]
    },
    {
     "name": "stderr",
     "output_type": "stream",
     "text": [
      "100%|██████████| 51/51 [00:18<00:00,  2.75it/s, loss=<built-in method item of Tensor object at 0x783e04f013f0>]\n"
     ]
    },
    {
     "name": "stdout",
     "output_type": "stream",
     "text": [
      "Got 5784292/5817600 with acc 99.427\n",
      "Dice score: 0.8363601565361023\n",
      "Epoch: 25\n"
     ]
    },
    {
     "name": "stderr",
     "output_type": "stream",
     "text": [
      "100%|██████████| 51/51 [00:18<00:00,  2.76it/s, loss=<built-in method item of Tensor object at 0x783e04f00720>]\n"
     ]
    },
    {
     "name": "stdout",
     "output_type": "stream",
     "text": [
      "Got 5769841/5817600 with acc 99.179\n",
      "Dice score: 0.7872416377067566\n",
      "Epoch: 26\n"
     ]
    },
    {
     "name": "stderr",
     "output_type": "stream",
     "text": [
      "100%|██████████| 51/51 [00:18<00:00,  2.70it/s, loss=<built-in method item of Tensor object at 0x783e04f34720>]\n"
     ]
    },
    {
     "name": "stdout",
     "output_type": "stream",
     "text": [
      "Got 5782065/5817600 with acc 99.389\n",
      "Dice score: 0.8233092427253723\n",
      "Epoch: 27\n"
     ]
    },
    {
     "name": "stderr",
     "output_type": "stream",
     "text": [
      "100%|██████████| 51/51 [00:18<00:00,  2.74it/s, loss=<built-in method item of Tensor object at 0x783e04f34400>]\n"
     ]
    },
    {
     "name": "stdout",
     "output_type": "stream",
     "text": [
      "Got 5682687/5817600 with acc 97.681\n",
      "Dice score: 0.6127195358276367\n",
      "Epoch: 28\n"
     ]
    },
    {
     "name": "stderr",
     "output_type": "stream",
     "text": [
      "100%|██████████| 51/51 [00:18<00:00,  2.76it/s, loss=<built-in method item of Tensor object at 0x783e04f35d50>]\n"
     ]
    },
    {
     "name": "stdout",
     "output_type": "stream",
     "text": [
      "Got 5786316/5817600 with acc 99.462\n",
      "Dice score: 0.8401051163673401\n",
      "Epoch: 29\n"
     ]
    },
    {
     "name": "stderr",
     "output_type": "stream",
     "text": [
      "100%|██████████| 51/51 [00:18<00:00,  2.71it/s, loss=<built-in method item of Tensor object at 0x783e04f34810>]\n"
     ]
    },
    {
     "name": "stdout",
     "output_type": "stream",
     "text": [
      "Got 5784580/5817600 with acc 99.432\n",
      "Dice score: 0.8457985520362854\n",
      "Epoch: 30\n"
     ]
    },
    {
     "name": "stderr",
     "output_type": "stream",
     "text": [
      "100%|██████████| 51/51 [00:18<00:00,  2.75it/s, loss=<built-in method item of Tensor object at 0x783e04f02ed0>]\n"
     ]
    },
    {
     "name": "stdout",
     "output_type": "stream",
     "text": [
      "Got 5777012/5817600 with acc 99.302\n",
      "Dice score: 0.8193480968475342\n",
      "Epoch: 31\n"
     ]
    },
    {
     "name": "stderr",
     "output_type": "stream",
     "text": [
      "100%|██████████| 51/51 [00:18<00:00,  2.76it/s, loss=<built-in method item of Tensor object at 0x783e04f413a0>]\n"
     ]
    },
    {
     "name": "stdout",
     "output_type": "stream",
     "text": [
      "Got 5786713/5817600 with acc 99.469\n",
      "Dice score: 0.8522442579269409\n",
      "Epoch: 32\n"
     ]
    },
    {
     "name": "stderr",
     "output_type": "stream",
     "text": [
      "100%|██████████| 51/51 [00:18<00:00,  2.74it/s, loss=<built-in method item of Tensor object at 0x783e04f40db0>]\n"
     ]
    },
    {
     "name": "stdout",
     "output_type": "stream",
     "text": [
      "Got 5787768/5817600 with acc 99.487\n",
      "Dice score: 0.8602485656738281\n",
      "Epoch: 33\n"
     ]
    },
    {
     "name": "stderr",
     "output_type": "stream",
     "text": [
      "100%|██████████| 51/51 [00:18<00:00,  2.76it/s, loss=<built-in method item of Tensor object at 0x783e04f420c0>]\n"
     ]
    },
    {
     "name": "stdout",
     "output_type": "stream",
     "text": [
      "Got 5784800/5817600 with acc 99.436\n",
      "Dice score: 0.8503350019454956\n",
      "Epoch: 34\n"
     ]
    },
    {
     "name": "stderr",
     "output_type": "stream",
     "text": [
      "100%|██████████| 51/51 [00:18<00:00,  2.76it/s, loss=<built-in method item of Tensor object at 0x783e04f68310>]\n"
     ]
    },
    {
     "name": "stdout",
     "output_type": "stream",
     "text": [
      "Got 5787254/5817600 with acc 99.478\n",
      "Dice score: 0.8391557931900024\n",
      "Epoch: 35\n"
     ]
    },
    {
     "name": "stderr",
     "output_type": "stream",
     "text": [
      "100%|██████████| 51/51 [00:18<00:00,  2.70it/s, loss=<built-in method item of Tensor object at 0x783e04f689f0>]\n"
     ]
    },
    {
     "name": "stdout",
     "output_type": "stream",
     "text": [
      "Got 5791251/5817600 with acc 99.547\n",
      "Dice score: 0.8707476854324341\n",
      "Epoch: 36\n"
     ]
    },
    {
     "name": "stderr",
     "output_type": "stream",
     "text": [
      "100%|██████████| 51/51 [00:18<00:00,  2.77it/s, loss=<built-in method item of Tensor object at 0x783e1c1d49f0>]\n"
     ]
    },
    {
     "name": "stdout",
     "output_type": "stream",
     "text": [
      "Got 5792647/5817600 with acc 99.571\n",
      "Dice score: 0.8741405606269836\n",
      "Epoch: 37\n"
     ]
    },
    {
     "name": "stderr",
     "output_type": "stream",
     "text": [
      "100%|██████████| 51/51 [00:18<00:00,  2.75it/s, loss=<built-in method item of Tensor object at 0x783e04f68860>]\n"
     ]
    },
    {
     "name": "stdout",
     "output_type": "stream",
     "text": [
      "Got 5793454/5817600 with acc 99.585\n",
      "Dice score: 0.8801546096801758\n",
      "Epoch: 38\n"
     ]
    },
    {
     "name": "stderr",
     "output_type": "stream",
     "text": [
      "100%|██████████| 51/51 [00:18<00:00,  2.71it/s, loss=<built-in method item of Tensor object at 0x783e04f42ca0>]\n"
     ]
    },
    {
     "name": "stdout",
     "output_type": "stream",
     "text": [
      "Got 5788682/5817600 with acc 99.503\n",
      "Dice score: 0.858157217502594\n",
      "Epoch: 39\n"
     ]
    },
    {
     "name": "stderr",
     "output_type": "stream",
     "text": [
      "100%|██████████| 51/51 [00:18<00:00,  2.76it/s, loss=<built-in method item of Tensor object at 0x783e04f31440>]\n"
     ]
    },
    {
     "name": "stdout",
     "output_type": "stream",
     "text": [
      "Got 5791900/5817600 with acc 99.558\n",
      "Dice score: 0.8741465210914612\n",
      "Epoch: 40\n"
     ]
    },
    {
     "name": "stderr",
     "output_type": "stream",
     "text": [
      "100%|██████████| 51/51 [00:18<00:00,  2.74it/s, loss=<built-in method item of Tensor object at 0x783e04f31d50>]\n"
     ]
    },
    {
     "name": "stdout",
     "output_type": "stream",
     "text": [
      "Got 5791471/5817600 with acc 99.551\n",
      "Dice score: 0.8694589734077454\n",
      "Epoch: 41\n"
     ]
    },
    {
     "name": "stderr",
     "output_type": "stream",
     "text": [
      "100%|██████████| 51/51 [00:18<00:00,  2.75it/s, loss=<built-in method item of Tensor object at 0x783e04f31d50>]\n"
     ]
    },
    {
     "name": "stdout",
     "output_type": "stream",
     "text": [
      "Got 5792866/5817600 with acc 99.575\n",
      "Dice score: 0.877792239189148\n",
      "Epoch: 42\n"
     ]
    },
    {
     "name": "stderr",
     "output_type": "stream",
     "text": [
      "100%|██████████| 51/51 [00:18<00:00,  2.75it/s, loss=<built-in method item of Tensor object at 0x783e04f33330>]\n"
     ]
    },
    {
     "name": "stdout",
     "output_type": "stream",
     "text": [
      "Got 5761992/5817600 with acc 99.044\n",
      "Dice score: 0.7782021164894104\n",
      "Epoch: 43\n"
     ]
    },
    {
     "name": "stderr",
     "output_type": "stream",
     "text": [
      "100%|██████████| 51/51 [00:18<00:00,  2.72it/s, loss=<built-in method item of Tensor object at 0x783e04f40720>]\n"
     ]
    },
    {
     "name": "stdout",
     "output_type": "stream",
     "text": [
      "Got 5794059/5817600 with acc 99.595\n",
      "Dice score: 0.8863525390625\n",
      "Epoch: 44\n"
     ]
    },
    {
     "name": "stderr",
     "output_type": "stream",
     "text": [
      "100%|██████████| 51/51 [00:18<00:00,  2.77it/s, loss=<built-in method item of Tensor object at 0x783e04f8d5d0>]\n"
     ]
    },
    {
     "name": "stdout",
     "output_type": "stream",
     "text": [
      "Got 5794291/5817600 with acc 99.599\n",
      "Dice score: 0.8888972401618958\n",
      "Epoch: 45\n"
     ]
    },
    {
     "name": "stderr",
     "output_type": "stream",
     "text": [
      "100%|██████████| 51/51 [00:18<00:00,  2.74it/s, loss=<built-in method item of Tensor object at 0x783e04f8ca40>]\n"
     ]
    },
    {
     "name": "stdout",
     "output_type": "stream",
     "text": [
      "Got 5793496/5817600 with acc 99.586\n",
      "Dice score: 0.8833348751068115\n",
      "Epoch: 46\n"
     ]
    },
    {
     "name": "stderr",
     "output_type": "stream",
     "text": [
      "100%|██████████| 51/51 [00:18<00:00,  2.69it/s, loss=<built-in method item of Tensor object at 0x783e04f8c4a0>]\n"
     ]
    },
    {
     "name": "stdout",
     "output_type": "stream",
     "text": [
      "Got 5792031/5817600 with acc 99.560\n",
      "Dice score: 0.8742470741271973\n",
      "Epoch: 47\n"
     ]
    },
    {
     "name": "stderr",
     "output_type": "stream",
     "text": [
      "100%|██████████| 51/51 [00:18<00:00,  2.76it/s, loss=<built-in method item of Tensor object at 0x783e04f9c180>]\n"
     ]
    },
    {
     "name": "stdout",
     "output_type": "stream",
     "text": [
      "Got 5795915/5817600 with acc 99.627\n",
      "Dice score: 0.8954250812530518\n",
      "Epoch: 48\n"
     ]
    },
    {
     "name": "stderr",
     "output_type": "stream",
     "text": [
      "100%|██████████| 51/51 [00:18<00:00,  2.78it/s, loss=<built-in method item of Tensor object at 0x783e04f8eb10>]\n"
     ]
    },
    {
     "name": "stdout",
     "output_type": "stream",
     "text": [
      "Got 5795072/5817600 with acc 99.613\n",
      "Dice score: 0.8869127035140991\n",
      "Epoch: 49\n"
     ]
    },
    {
     "name": "stderr",
     "output_type": "stream",
     "text": [
      "100%|██████████| 51/51 [00:18<00:00,  2.74it/s, loss=<built-in method item of Tensor object at 0x783e04fa6b60>]\n"
     ]
    },
    {
     "name": "stdout",
     "output_type": "stream",
     "text": [
      "Got 5791851/5817600 with acc 99.557\n",
      "Dice score: 0.8766084909439087\n",
      "Epoch: 50\n"
     ]
    },
    {
     "name": "stderr",
     "output_type": "stream",
     "text": [
      "100%|██████████| 51/51 [00:18<00:00,  2.76it/s, loss=<built-in method item of Tensor object at 0x783e04fa7880>]\n"
     ]
    },
    {
     "name": "stdout",
     "output_type": "stream",
     "text": [
      "Got 5796276/5817600 with acc 99.633\n",
      "Dice score: 0.8939886093139648\n",
      "Epoch: 51\n"
     ]
    },
    {
     "name": "stderr",
     "output_type": "stream",
     "text": [
      "100%|██████████| 51/51 [00:18<00:00,  2.74it/s, loss=<built-in method item of Tensor object at 0x783e04facc20>]\n"
     ]
    },
    {
     "name": "stdout",
     "output_type": "stream",
     "text": [
      "Got 5795856/5817600 with acc 99.626\n",
      "Dice score: 0.8918390870094299\n",
      "Epoch: 52\n"
     ]
    },
    {
     "name": "stderr",
     "output_type": "stream",
     "text": [
      "100%|██████████| 51/51 [00:18<00:00,  2.77it/s, loss=<built-in method item of Tensor object at 0x783e04f9cf90>]\n"
     ]
    },
    {
     "name": "stdout",
     "output_type": "stream",
     "text": [
      "Got 5794835/5817600 with acc 99.609\n",
      "Dice score: 0.8878598213195801\n",
      "Epoch: 53\n"
     ]
    },
    {
     "name": "stderr",
     "output_type": "stream",
     "text": [
      "100%|██████████| 51/51 [00:18<00:00,  2.76it/s, loss=<built-in method item of Tensor object at 0x783e04f9c860>]\n"
     ]
    },
    {
     "name": "stdout",
     "output_type": "stream",
     "text": [
      "Got 5793274/5817600 with acc 99.582\n",
      "Dice score: 0.8757437467575073\n",
      "Epoch: 54\n"
     ]
    },
    {
     "name": "stderr",
     "output_type": "stream",
     "text": [
      "100%|██████████| 51/51 [00:18<00:00,  2.75it/s, loss=<built-in method item of Tensor object at 0x783e04f9f330>]\n"
     ]
    },
    {
     "name": "stdout",
     "output_type": "stream",
     "text": [
      "Got 5789141/5817600 with acc 99.511\n",
      "Dice score: 0.8411720395088196\n",
      "Epoch: 55\n"
     ]
    },
    {
     "name": "stderr",
     "output_type": "stream",
     "text": [
      "100%|██████████| 51/51 [00:18<00:00,  2.76it/s, loss=<built-in method item of Tensor object at 0x783e04fcc040>]\n"
     ]
    },
    {
     "name": "stdout",
     "output_type": "stream",
     "text": [
      "Got 5794694/5817600 with acc 99.606\n",
      "Dice score: 0.8800874352455139\n",
      "Epoch: 56\n"
     ]
    },
    {
     "name": "stderr",
     "output_type": "stream",
     "text": [
      "100%|██████████| 51/51 [00:18<00:00,  2.72it/s, loss=<built-in method item of Tensor object at 0x783e04fd1030>]\n"
     ]
    },
    {
     "name": "stdout",
     "output_type": "stream",
     "text": [
      "Got 5797135/5817600 with acc 99.648\n",
      "Dice score: 0.8973294496536255\n",
      "Epoch: 57\n"
     ]
    },
    {
     "name": "stderr",
     "output_type": "stream",
     "text": [
      "100%|██████████| 51/51 [00:18<00:00,  2.76it/s, loss=<built-in method item of Tensor object at 0x783e04fd2930>]\n"
     ]
    },
    {
     "name": "stdout",
     "output_type": "stream",
     "text": [
      "Got 5795469/5817600 with acc 99.620\n",
      "Dice score: 0.8861948251724243\n",
      "Epoch: 58\n"
     ]
    },
    {
     "name": "stderr",
     "output_type": "stream",
     "text": [
      "100%|██████████| 51/51 [00:18<00:00,  2.76it/s, loss=<built-in method item of Tensor object at 0x783e04fd39c0>]\n"
     ]
    },
    {
     "name": "stdout",
     "output_type": "stream",
     "text": [
      "Got 5794996/5817600 with acc 99.611\n",
      "Dice score: 0.8872122764587402\n",
      "Epoch: 59\n"
     ]
    },
    {
     "name": "stderr",
     "output_type": "stream",
     "text": [
      "100%|██████████| 51/51 [00:18<00:00,  2.73it/s, loss=<built-in method item of Tensor object at 0x783e04fe0cc0>]\n"
     ]
    },
    {
     "name": "stdout",
     "output_type": "stream",
     "text": [
      "Got 5795165/5817600 with acc 99.614\n",
      "Dice score: 0.8859735727310181\n",
      "Epoch: 60\n"
     ]
    },
    {
     "name": "stderr",
     "output_type": "stream",
     "text": [
      "100%|██████████| 51/51 [00:18<00:00,  2.76it/s, loss=<built-in method item of Tensor object at 0x783e04fe0540>]\n"
     ]
    },
    {
     "name": "stdout",
     "output_type": "stream",
     "text": [
      "Got 5796316/5817600 with acc 99.634\n",
      "Dice score: 0.8891294598579407\n",
      "Epoch: 61\n"
     ]
    },
    {
     "name": "stderr",
     "output_type": "stream",
     "text": [
      "100%|██████████| 51/51 [00:18<00:00,  2.74it/s, loss=<built-in method item of Tensor object at 0x783e04fe1f30>]\n"
     ]
    },
    {
     "name": "stdout",
     "output_type": "stream",
     "text": [
      "Got 5795943/5817600 with acc 99.628\n",
      "Dice score: 0.8885776400566101\n",
      "Epoch: 62\n"
     ]
    },
    {
     "name": "stderr",
     "output_type": "stream",
     "text": [
      "100%|██████████| 51/51 [00:18<00:00,  2.75it/s, loss=<built-in method item of Tensor object at 0x783e04fe2a20>]\n"
     ]
    },
    {
     "name": "stdout",
     "output_type": "stream",
     "text": [
      "Got 5796899/5817600 with acc 99.644\n",
      "Dice score: 0.8950283527374268\n",
      "Epoch: 63\n"
     ]
    },
    {
     "name": "stderr",
     "output_type": "stream",
     "text": [
      "100%|██████████| 51/51 [00:18<00:00,  2.76it/s, loss=<built-in method item of Tensor object at 0x783e04fe2980>]\n"
     ]
    },
    {
     "name": "stdout",
     "output_type": "stream",
     "text": [
      "Got 5795442/5817600 with acc 99.619\n",
      "Dice score: 0.8890193104743958\n",
      "Epoch: 64\n"
     ]
    },
    {
     "name": "stderr",
     "output_type": "stream",
     "text": [
      "100%|██████████| 51/51 [00:18<00:00,  2.73it/s, loss=<built-in method item of Tensor object at 0x783e04ff4360>]\n"
     ]
    },
    {
     "name": "stdout",
     "output_type": "stream",
     "text": [
      "Got 5795781/5817600 with acc 99.625\n",
      "Dice score: 0.88980633020401\n",
      "Epoch: 65\n"
     ]
    },
    {
     "name": "stderr",
     "output_type": "stream",
     "text": [
      "100%|██████████| 51/51 [00:18<00:00,  2.76it/s, loss=<built-in method item of Tensor object at 0x783e04ff9260>]\n"
     ]
    },
    {
     "name": "stdout",
     "output_type": "stream",
     "text": [
      "Got 5791419/5817600 with acc 99.550\n",
      "Dice score: 0.8572283387184143\n",
      "Epoch: 66\n"
     ]
    },
    {
     "name": "stderr",
     "output_type": "stream",
     "text": [
      "100%|██████████| 51/51 [00:18<00:00,  2.74it/s, loss=<built-in method item of Tensor object at 0x783e04ff8310>]\n"
     ]
    },
    {
     "name": "stdout",
     "output_type": "stream",
     "text": [
      "Got 5791624/5817600 with acc 99.553\n",
      "Dice score: 0.8689382672309875\n",
      "Epoch: 67\n"
     ]
    },
    {
     "name": "stderr",
     "output_type": "stream",
     "text": [
      "100%|██████████| 51/51 [00:18<00:00,  2.76it/s, loss=<built-in method item of Tensor object at 0x783e04ff8f90>]\n"
     ]
    },
    {
     "name": "stdout",
     "output_type": "stream",
     "text": [
      "Got 5796078/5817600 with acc 99.630\n",
      "Dice score: 0.8889557719230652\n",
      "Epoch: 68\n"
     ]
    },
    {
     "name": "stderr",
     "output_type": "stream",
     "text": [
      "100%|██████████| 51/51 [00:18<00:00,  2.76it/s, loss=<built-in method item of Tensor object at 0x783e04ffb790>]\n"
     ]
    },
    {
     "name": "stdout",
     "output_type": "stream",
     "text": [
      "Got 5794569/5817600 with acc 99.604\n",
      "Dice score: 0.8831236958503723\n",
      "Epoch: 69\n"
     ]
    },
    {
     "name": "stderr",
     "output_type": "stream",
     "text": [
      "100%|██████████| 51/51 [00:18<00:00,  2.70it/s, loss=<built-in method item of Tensor object at 0x783e04e0c180>]\n"
     ]
    },
    {
     "name": "stdout",
     "output_type": "stream",
     "text": [
      "Got 5796679/5817600 with acc 99.640\n",
      "Dice score: 0.8913584351539612\n",
      "Epoch: 70\n"
     ]
    },
    {
     "name": "stderr",
     "output_type": "stream",
     "text": [
      "100%|██████████| 51/51 [00:18<00:00,  2.76it/s, loss=<built-in method item of Tensor object at 0x783e04e1ca90>]\n"
     ]
    },
    {
     "name": "stdout",
     "output_type": "stream",
     "text": [
      "Got 5797384/5817600 with acc 99.652\n",
      "Dice score: 0.8993654847145081\n",
      "Epoch: 71\n"
     ]
    },
    {
     "name": "stderr",
     "output_type": "stream",
     "text": [
      "100%|██████████| 51/51 [00:18<00:00,  2.77it/s, loss=<built-in method item of Tensor object at 0x783e04e344a0>]\n"
     ]
    },
    {
     "name": "stdout",
     "output_type": "stream",
     "text": [
      "Got 5798546/5817600 with acc 99.672\n",
      "Dice score: 0.9037628173828125\n",
      "Epoch: 72\n"
     ]
    },
    {
     "name": "stderr",
     "output_type": "stream",
     "text": [
      "100%|██████████| 51/51 [00:18<00:00,  2.70it/s, loss=<built-in method item of Tensor object at 0x783e04e1fe20>]\n"
     ]
    },
    {
     "name": "stdout",
     "output_type": "stream",
     "text": [
      "Got 5798289/5817600 with acc 99.668\n",
      "Dice score: 0.9017577767372131\n",
      "Epoch: 73\n"
     ]
    },
    {
     "name": "stderr",
     "output_type": "stream",
     "text": [
      "100%|██████████| 51/51 [00:18<00:00,  2.77it/s, loss=<built-in method item of Tensor object at 0x783e04e39df0>]\n"
     ]
    },
    {
     "name": "stdout",
     "output_type": "stream",
     "text": [
      "Got 5795360/5817600 with acc 99.618\n",
      "Dice score: 0.88435298204422\n",
      "Epoch: 74\n"
     ]
    },
    {
     "name": "stderr",
     "output_type": "stream",
     "text": [
      "100%|██████████| 51/51 [00:18<00:00,  2.77it/s, loss=<built-in method item of Tensor object at 0x783e04e3a4d0>]\n"
     ]
    },
    {
     "name": "stdout",
     "output_type": "stream",
     "text": [
      "Got 5796448/5817600 with acc 99.636\n",
      "Dice score: 0.8922219276428223\n",
      "Epoch: 75\n"
     ]
    },
    {
     "name": "stderr",
     "output_type": "stream",
     "text": [
      "100%|██████████| 51/51 [00:18<00:00,  2.76it/s, loss=<built-in method item of Tensor object at 0x783e04e3bf60>]\n"
     ]
    },
    {
     "name": "stdout",
     "output_type": "stream",
     "text": [
      "Got 5798452/5817600 with acc 99.671\n",
      "Dice score: 0.9035564661026001\n",
      "Epoch: 76\n"
     ]
    },
    {
     "name": "stderr",
     "output_type": "stream",
     "text": [
      "100%|██████████| 51/51 [00:18<00:00,  2.76it/s, loss=<built-in method item of Tensor object at 0x783e04e2ca40>]\n"
     ]
    },
    {
     "name": "stdout",
     "output_type": "stream",
     "text": [
      "Got 5797225/5817600 with acc 99.650\n",
      "Dice score: 0.8977293968200684\n",
      "Epoch: 77\n"
     ]
    },
    {
     "name": "stderr",
     "output_type": "stream",
     "text": [
      "100%|██████████| 51/51 [00:18<00:00,  2.72it/s, loss=<built-in method item of Tensor object at 0x783e04e2c0e0>]\n"
     ]
    },
    {
     "name": "stdout",
     "output_type": "stream",
     "text": [
      "Got 5798181/5817600 with acc 99.666\n",
      "Dice score: 0.901955783367157\n",
      "Epoch: 78\n"
     ]
    },
    {
     "name": "stderr",
     "output_type": "stream",
     "text": [
      "100%|██████████| 51/51 [00:18<00:00,  2.76it/s, loss=<built-in method item of Tensor object at 0x783e04e2ede0>]\n"
     ]
    },
    {
     "name": "stdout",
     "output_type": "stream",
     "text": [
      "Got 5791717/5817600 with acc 99.555\n",
      "Dice score: 0.8659656643867493\n",
      "Epoch: 79\n"
     ]
    },
    {
     "name": "stderr",
     "output_type": "stream",
     "text": [
      "100%|██████████| 51/51 [00:18<00:00,  2.76it/s, loss=<built-in method item of Tensor object at 0x783e04e2f510>]\n"
     ]
    },
    {
     "name": "stdout",
     "output_type": "stream",
     "text": [
      "Got 5796424/5817600 with acc 99.636\n",
      "Dice score: 0.8882347941398621\n",
      "Epoch: 80\n"
     ]
    },
    {
     "name": "stderr",
     "output_type": "stream",
     "text": [
      "100%|██████████| 51/51 [00:18<00:00,  2.76it/s, loss=<built-in method item of Tensor object at 0x783e04e54130>]\n"
     ]
    },
    {
     "name": "stdout",
     "output_type": "stream",
     "text": [
      "Got 5797704/5817600 with acc 99.658\n",
      "Dice score: 0.9005715250968933\n",
      "Epoch: 81\n"
     ]
    },
    {
     "name": "stderr",
     "output_type": "stream",
     "text": [
      "100%|██████████| 51/51 [00:18<00:00,  2.77it/s, loss=<built-in method item of Tensor object at 0x783e04e60cc0>]\n"
     ]
    },
    {
     "name": "stdout",
     "output_type": "stream",
     "text": [
      "Got 5789173/5817600 with acc 99.511\n",
      "Dice score: 0.8469097018241882\n",
      "Epoch: 82\n"
     ]
    },
    {
     "name": "stderr",
     "output_type": "stream",
     "text": [
      "100%|██████████| 51/51 [00:18<00:00,  2.72it/s, loss=<built-in method item of Tensor object at 0x783e04e62020>]\n"
     ]
    },
    {
     "name": "stdout",
     "output_type": "stream",
     "text": [
      "Got 5794057/5817600 with acc 99.595\n",
      "Dice score: 0.879011869430542\n",
      "Epoch: 83\n"
     ]
    },
    {
     "name": "stderr",
     "output_type": "stream",
     "text": [
      "100%|██████████| 51/51 [00:18<00:00,  2.77it/s, loss=<built-in method item of Tensor object at 0x783e04e61a30>]\n"
     ]
    },
    {
     "name": "stdout",
     "output_type": "stream",
     "text": [
      "Got 5792039/5817600 with acc 99.561\n",
      "Dice score: 0.8648279905319214\n",
      "Epoch: 84\n"
     ]
    },
    {
     "name": "stderr",
     "output_type": "stream",
     "text": [
      "100%|██████████| 51/51 [00:18<00:00,  2.78it/s, loss=<built-in method item of Tensor object at 0x783e04e605e0>]\n"
     ]
    },
    {
     "name": "stdout",
     "output_type": "stream",
     "text": [
      "Got 5794642/5817600 with acc 99.605\n",
      "Dice score: 0.881692111492157\n",
      "Epoch: 85\n"
     ]
    },
    {
     "name": "stderr",
     "output_type": "stream",
     "text": [
      "100%|██████████| 51/51 [00:18<00:00,  2.76it/s, loss=<built-in method item of Tensor object at 0x783e04e58310>]\n"
     ]
    },
    {
     "name": "stdout",
     "output_type": "stream",
     "text": [
      "Got 5799612/5817600 with acc 99.691\n",
      "Dice score: 0.9088074564933777\n",
      "Epoch: 86\n"
     ]
    },
    {
     "name": "stderr",
     "output_type": "stream",
     "text": [
      "100%|██████████| 51/51 [00:18<00:00,  2.75it/s, loss=<built-in method item of Tensor object at 0x783e04e6f560>]\n"
     ]
    },
    {
     "name": "stdout",
     "output_type": "stream",
     "text": [
      "Got 5799192/5817600 with acc 99.684\n",
      "Dice score: 0.9063209295272827\n",
      "Epoch: 87\n"
     ]
    },
    {
     "name": "stderr",
     "output_type": "stream",
     "text": [
      "100%|██████████| 51/51 [00:18<00:00,  2.75it/s, loss=<built-in method item of Tensor object at 0x783e04e744f0>]\n"
     ]
    },
    {
     "name": "stdout",
     "output_type": "stream",
     "text": [
      "Got 5798250/5817600 with acc 99.667\n",
      "Dice score: 0.9025023579597473\n",
      "Epoch: 88\n"
     ]
    },
    {
     "name": "stderr",
     "output_type": "stream",
     "text": [
      "100%|██████████| 51/51 [00:18<00:00,  2.78it/s, loss=<built-in method item of Tensor object at 0x783e04e794e0>]\n"
     ]
    },
    {
     "name": "stdout",
     "output_type": "stream",
     "text": [
      "Got 5795805/5817600 with acc 99.625\n",
      "Dice score: 0.8847881555557251\n",
      "Epoch: 89\n"
     ]
    },
    {
     "name": "stderr",
     "output_type": "stream",
     "text": [
      "100%|██████████| 51/51 [00:18<00:00,  2.77it/s, loss=<built-in method item of Tensor object at 0x783e04e78ea0>]\n"
     ]
    },
    {
     "name": "stdout",
     "output_type": "stream",
     "text": [
      "Got 5796839/5817600 with acc 99.643\n",
      "Dice score: 0.8911469578742981\n",
      "Epoch: 90\n"
     ]
    },
    {
     "name": "stderr",
     "output_type": "stream",
     "text": [
      "100%|██████████| 51/51 [00:18<00:00,  2.77it/s, loss=<built-in method item of Tensor object at 0x783e04e7a9d0>]\n"
     ]
    },
    {
     "name": "stdout",
     "output_type": "stream",
     "text": [
      "Got 5799660/5817600 with acc 99.692\n",
      "Dice score: 0.9087826013565063\n",
      "Epoch: 91\n"
     ]
    },
    {
     "name": "stderr",
     "output_type": "stream",
     "text": [
      "100%|██████████| 51/51 [00:18<00:00,  2.74it/s, loss=<built-in method item of Tensor object at 0x783e04e78c70>]\n"
     ]
    },
    {
     "name": "stdout",
     "output_type": "stream",
     "text": [
      "Got 5798629/5817600 with acc 99.674\n",
      "Dice score: 0.9025241732597351\n",
      "Epoch: 92\n"
     ]
    },
    {
     "name": "stderr",
     "output_type": "stream",
     "text": [
      "100%|██████████| 51/51 [00:18<00:00,  2.78it/s, loss=<built-in method item of Tensor object at 0x783e04ea0ae0>]\n"
     ]
    },
    {
     "name": "stdout",
     "output_type": "stream",
     "text": [
      "Got 5797022/5817600 with acc 99.646\n",
      "Dice score: 0.8921269178390503\n",
      "Epoch: 93\n"
     ]
    },
    {
     "name": "stderr",
     "output_type": "stream",
     "text": [
      "100%|██████████| 51/51 [00:18<00:00,  2.76it/s, loss=<built-in method item of Tensor object at 0x783e04ea1c60>]\n"
     ]
    },
    {
     "name": "stdout",
     "output_type": "stream",
     "text": [
      "Got 5798980/5817600 with acc 99.680\n",
      "Dice score: 0.9059990644454956\n",
      "Epoch: 94\n"
     ]
    },
    {
     "name": "stderr",
     "output_type": "stream",
     "text": [
      "100%|██████████| 51/51 [00:18<00:00,  2.77it/s, loss=<built-in method item of Tensor object at 0x783e04ea2f70>]\n"
     ]
    },
    {
     "name": "stdout",
     "output_type": "stream",
     "text": [
      "Got 5799354/5817600 with acc 99.686\n",
      "Dice score: 0.9071382284164429\n",
      "Epoch: 95\n"
     ]
    },
    {
     "name": "stderr",
     "output_type": "stream",
     "text": [
      "100%|██████████| 51/51 [00:18<00:00,  2.78it/s, loss=<built-in method item of Tensor object at 0x783e04ea2d90>]\n"
     ]
    },
    {
     "name": "stdout",
     "output_type": "stream",
     "text": [
      "Got 5799645/5817600 with acc 99.691\n",
      "Dice score: 0.9081864356994629\n",
      "Epoch: 96\n"
     ]
    },
    {
     "name": "stderr",
     "output_type": "stream",
     "text": [
      "100%|██████████| 51/51 [00:18<00:00,  2.72it/s, loss=<built-in method item of Tensor object at 0x783e04eac090>]\n"
     ]
    },
    {
     "name": "stdout",
     "output_type": "stream",
     "text": [
      "Got 5798884/5817600 with acc 99.678\n",
      "Dice score: 0.9048663377761841\n",
      "Epoch: 97\n"
     ]
    },
    {
     "name": "stderr",
     "output_type": "stream",
     "text": [
      "100%|██████████| 51/51 [00:18<00:00,  2.78it/s, loss=<built-in method item of Tensor object at 0x783e04ead170>]\n"
     ]
    },
    {
     "name": "stdout",
     "output_type": "stream",
     "text": [
      "Got 5797577/5817600 with acc 99.656\n",
      "Dice score: 0.8966012001037598\n",
      "Epoch: 98\n"
     ]
    },
    {
     "name": "stderr",
     "output_type": "stream",
     "text": [
      "100%|██████████| 51/51 [00:18<00:00,  2.77it/s, loss=<built-in method item of Tensor object at 0x783e04eac1d0>]\n"
     ]
    },
    {
     "name": "stdout",
     "output_type": "stream",
     "text": [
      "Got 5798269/5817600 with acc 99.668\n",
      "Dice score: 0.8994408249855042\n",
      "Epoch: 99\n"
     ]
    },
    {
     "name": "stderr",
     "output_type": "stream",
     "text": [
      "100%|██████████| 51/51 [00:18<00:00,  2.76it/s, loss=<built-in method item of Tensor object at 0x783e04eacef0>]\n"
     ]
    },
    {
     "name": "stdout",
     "output_type": "stream",
     "text": [
      "Got 5798633/5817600 with acc 99.674\n",
      "Dice score: 0.9023965001106262\n",
      "Epoch: 100\n"
     ]
    },
    {
     "name": "stderr",
     "output_type": "stream",
     "text": [
      "100%|██████████| 51/51 [00:18<00:00,  2.77it/s, loss=<built-in method item of Tensor object at 0x783e04eaf100>]\n"
     ]
    },
    {
     "name": "stdout",
     "output_type": "stream",
     "text": [
      "Got 5797939/5817600 with acc 99.662\n",
      "Dice score: 0.8978944420814514\n",
      "Epoch: 101\n"
     ]
    },
    {
     "name": "stderr",
     "output_type": "stream",
     "text": [
      "100%|██████████| 51/51 [00:18<00:00,  2.73it/s, loss=<built-in method item of Tensor object at 0x783e04eade90>]\n"
     ]
    },
    {
     "name": "stdout",
     "output_type": "stream",
     "text": [
      "Got 5797532/5817600 with acc 99.655\n",
      "Dice score: 0.8977795839309692\n",
      "Epoch: 102\n"
     ]
    },
    {
     "name": "stderr",
     "output_type": "stream",
     "text": [
      "100%|██████████| 51/51 [00:18<00:00,  2.78it/s, loss=<built-in method item of Tensor object at 0x783e04ec12b0>]\n"
     ]
    },
    {
     "name": "stdout",
     "output_type": "stream",
     "text": [
      "Got 5800670/5817600 with acc 99.709\n",
      "Dice score: 0.9130621552467346\n",
      "Epoch: 103\n"
     ]
    },
    {
     "name": "stderr",
     "output_type": "stream",
     "text": [
      "100%|██████████| 51/51 [00:18<00:00,  2.77it/s, loss=<built-in method item of Tensor object at 0x783e04ee4090>]\n"
     ]
    },
    {
     "name": "stdout",
     "output_type": "stream",
     "text": [
      "Got 5800001/5817600 with acc 99.697\n",
      "Dice score: 0.9107006788253784\n",
      "Epoch: 104\n"
     ]
    },
    {
     "name": "stderr",
     "output_type": "stream",
     "text": [
      "100%|██████████| 51/51 [00:18<00:00,  2.73it/s, loss=<built-in method item of Tensor object at 0x783e04ee4d10>]\n"
     ]
    },
    {
     "name": "stdout",
     "output_type": "stream",
     "text": [
      "Got 5798505/5817600 with acc 99.672\n",
      "Dice score: 0.9001107215881348\n",
      "Epoch: 105\n"
     ]
    },
    {
     "name": "stderr",
     "output_type": "stream",
     "text": [
      "100%|██████████| 51/51 [00:18<00:00,  2.78it/s, loss=<built-in method item of Tensor object at 0x783e04ee5a80>]\n"
     ]
    },
    {
     "name": "stdout",
     "output_type": "stream",
     "text": [
      "Got 5799505/5817600 with acc 99.689\n",
      "Dice score: 0.9081279635429382\n",
      "Epoch: 106\n"
     ]
    },
    {
     "name": "stderr",
     "output_type": "stream",
     "text": [
      "100%|██████████| 51/51 [00:18<00:00,  2.76it/s, loss=<built-in method item of Tensor object at 0x783e04ee5120>]\n"
     ]
    },
    {
     "name": "stdout",
     "output_type": "stream",
     "text": [
      "Got 5798897/5817600 with acc 99.679\n",
      "Dice score: 0.9049801826477051\n",
      "Epoch: 107\n"
     ]
    },
    {
     "name": "stderr",
     "output_type": "stream",
     "text": [
      "100%|██████████| 51/51 [00:18<00:00,  2.76it/s, loss=<built-in method item of Tensor object at 0x783e04ee5850>]\n"
     ]
    },
    {
     "name": "stdout",
     "output_type": "stream",
     "text": [
      "Got 5799560/5817600 with acc 99.690\n",
      "Dice score: 0.9073507785797119\n",
      "Epoch: 108\n"
     ]
    },
    {
     "name": "stderr",
     "output_type": "stream",
     "text": [
      "100%|██████████| 51/51 [00:18<00:00,  2.78it/s, loss=<built-in method item of Tensor object at 0x783e04ef4220>]\n"
     ]
    },
    {
     "name": "stdout",
     "output_type": "stream",
     "text": [
      "Got 5796445/5817600 with acc 99.636\n",
      "Dice score: 0.8910681009292603\n",
      "Epoch: 109\n"
     ]
    },
    {
     "name": "stderr",
     "output_type": "stream",
     "text": [
      "100%|██████████| 51/51 [00:18<00:00,  2.74it/s, loss=<built-in method item of Tensor object at 0x783e04f9d350>]\n"
     ]
    },
    {
     "name": "stdout",
     "output_type": "stream",
     "text": [
      "Got 5795486/5817600 with acc 99.620\n",
      "Dice score: 0.8837989568710327\n",
      "Epoch: 110\n"
     ]
    },
    {
     "name": "stderr",
     "output_type": "stream",
     "text": [
      "100%|██████████| 51/51 [00:18<00:00,  2.78it/s, loss=<built-in method item of Tensor object at 0x783e04ef51c0>]\n"
     ]
    },
    {
     "name": "stdout",
     "output_type": "stream",
     "text": [
      "Got 5799329/5817600 with acc 99.686\n",
      "Dice score: 0.9061821699142456\n"
     ]
    }
   ],
   "source": [
    "model3, L_dice2, L_loss2, L_acc2 = main(NUM_EPOCHS = 110)"
   ]
  },
  {
   "cell_type": "code",
   "execution_count": null,
   "metadata": {
    "colab": {
     "base_uri": "https://localhost:8080/"
    },
    "id": "XY88dk_RVP5e",
    "outputId": "15245fb8-8e97-4108-fb78-ce5da3da91fa"
   },
   "outputs": [
    {
     "name": "stderr",
     "output_type": "stream",
     "text": [
      "<ipython-input-63-a4caee1a9585>:7: FutureWarning: You are using `torch.load` with `weights_only=False` (the current default value), which uses the default pickle module implicitly. It is possible to construct malicious pickle data which will execute arbitrary code during unpickling (See https://github.com/pytorch/pytorch/blob/main/SECURITY.md#untrusted-models for more details). In a future release, the default value for `weights_only` will be flipped to `True`. This limits the functions that could be executed during unpickling. Arbitrary objects will no longer be allowed to be loaded via this mode unless they are explicitly allowlisted by the user via `torch.serialization.add_safe_globals`. We recommend you start setting `weights_only=True` for any use case where you don't have full control of the loaded file. Please open an issue on GitHub for any issues related to this experimental feature.\n",
      "  checkpoint = torch.load(\"best_model_checkpoint.pth\")\n"
     ]
    },
    {
     "data": {
      "text/plain": [
       "<All keys matched successfully>"
      ]
     },
     "execution_count": 63,
     "metadata": {},
     "output_type": "execute_result"
    }
   ],
   "source": [
    "# prompt: carga el modelo con las mejores métricas (guardado en el archivo best_model_checkpoint.pth) asignándolo a la variable model2\n",
    "\n",
    "import torch\n",
    "\n",
    "# Assuming 'best_model_checkpoint.pth' is in the current working directory.\n",
    "# If not, adjust the path accordingly.\n",
    "checkpoint = torch.load(\"best_model_checkpoint.pth\")\n",
    "\n",
    "# Assuming UNET class is defined in the current scope\n",
    "# If not, make sure the definition of UNET is available before this line\n",
    "\n",
    "model2 = UNET(in_channels=3, out_channels=1).to(DEVICE)\n",
    "model2.load_state_dict(checkpoint[\"state_dict\"])\n",
    "# model2.eval() #set to evaluation mode"
   ]
  },
  {
   "cell_type": "code",
   "execution_count": null,
   "metadata": {
    "id": "QZNLBh26nJT6"
   },
   "outputs": [],
   "source": [
    "# GUARDAR EL MODELO EN UN ZIP:\n",
    "# prompt: Guarda en modelo model1 que acabo de entrenar en un archivo zip, para que después lo pueda cargar en otro script\n",
    "\n",
    "import zipfile\n",
    "import os\n",
    "\n",
    "def save_model_to_zip(model, filename=\"model2.zip\"):\n",
    "  \"\"\"Saves the trained PyTorch model to a zip file.\n",
    "\n",
    "  Args:\n",
    "    model: The trained PyTorch model.\n",
    "    filename: The name of the zip file to save the model to.\n",
    "  \"\"\"\n",
    "  # Save the model state dictionary\n",
    "  torch.save(model.state_dict(), \"model2_weights.pth\")\n",
    "\n",
    "  # Create a zip file containing the model weights\n",
    "  with zipfile.ZipFile(filename, 'w') as zipf:\n",
    "    zipf.write(\"model2_weights.pth\")\n",
    "\n",
    "  # Remove the temporary weights file\n",
    "  os.remove(\"model2_weights.pth\")\n",
    "\n",
    "\n",
    "save_model_to_zip(model2)"
   ]
  },
  {
   "cell_type": "markdown",
   "metadata": {
    "id": "ayxsFYUL7q-6"
   },
   "source": [
    "# Hacer predicciones con el modelo:"
   ]
  },
  {
   "cell_type": "code",
   "execution_count": null,
   "metadata": {
    "colab": {
     "base_uri": "https://localhost:8080/"
    },
    "id": "wUqXfDbzBATE",
    "outputId": "3bf293f5-25c3-4cc5-b8e3-c0bfcc8d87dd"
   },
   "outputs": [
    {
     "name": "stderr",
     "output_type": "stream",
     "text": [
      "<ipython-input-65-057eabf15458>:23: FutureWarning: You are using `torch.load` with `weights_only=False` (the current default value), which uses the default pickle module implicitly. It is possible to construct malicious pickle data which will execute arbitrary code during unpickling (See https://github.com/pytorch/pytorch/blob/main/SECURITY.md#untrusted-models for more details). In a future release, the default value for `weights_only` will be flipped to `True`. This limits the functions that could be executed during unpickling. Arbitrary objects will no longer be allowed to be loaded via this mode unless they are explicitly allowlisted by the user via `torch.serialization.add_safe_globals`. We recommend you start setting `weights_only=True` for any use case where you don't have full control of the loaded file. Please open an issue on GitHub for any issues related to this experimental feature.\n",
      "  model.load_state_dict(torch.load(\"model2_weights.pth\", map_location=device))\n"
     ]
    }
   ],
   "source": [
    "# CARGAR EL MODELO DEL ZIP (solo para guardar este código):\n",
    "# prompt: Ahora dame el código con el que lo cargaría en el otro script, asignándolo a la variable model2\n",
    "\n",
    "import torch\n",
    "# from model import UNET  # Assuming your UNET class is in a file named model.py\n",
    "import zipfile\n",
    "\n",
    "def load_model_from_zip(zip_filename, device=\"cpu\"):\n",
    "  \"\"\"Loads a PyTorch model from a zip file.\n",
    "\n",
    "  Args:\n",
    "    zip_filename: The name of the zip file containing the model weights.\n",
    "    device: The device to load the model onto (e.g., \"cuda\" or \"cpu\").\n",
    "\n",
    "  Returns:\n",
    "    The loaded PyTorch model.\n",
    "  \"\"\"\n",
    "\n",
    "  with zipfile.ZipFile(zip_filename, 'r') as zipf:\n",
    "    zipf.extractall()\n",
    "\n",
    "  model = UNET(in_channels=3, out_channels=1).to(device)\n",
    "  model.load_state_dict(torch.load(\"model2_weights.pth\", map_location=device))\n",
    "\n",
    "  return model\n",
    "\n",
    "\n",
    "# Example of how to load the model\n",
    "model2 = load_model_from_zip(\"model2.zip\", device=DEVICE)"
   ]
  },
  {
   "cell_type": "code",
   "execution_count": null,
   "metadata": {
    "colab": {
     "base_uri": "https://localhost:8080/"
    },
    "id": "rV6-5rE3gJwk",
    "outputId": "6e90c274-a874-4e08-f7ad-eee2d0a0726b"
   },
   "outputs": [
    {
     "name": "stdout",
     "output_type": "stream",
     "text": [
      "Path de la imagen aleatoria: /content/FootSegmentation_4/images-unet/Ims_double/test_images/0408.png\n"
     ]
    }
   ],
   "source": [
    "# prompt: Obtén el path de una imágen escogida aleatoriamente del folder /content/FootSegmentation_4/images-unet/IMs29Ago/test_images/\n",
    "\n",
    "import os\n",
    "import random\n",
    "\n",
    "def get_random_image_path(folder_path):\n",
    "  \"\"\"\n",
    "  Obtiene el path de una imagen escogida aleatoriamente del folder especificado.\n",
    "\n",
    "  Args:\n",
    "    folder_path: Ruta a la carpeta que contiene las imágenes.\n",
    "\n",
    "  Returns:\n",
    "    Path de la imagen aleatoria, o None si la carpeta está vacía.\n",
    "  \"\"\"\n",
    "  image_files = [f for f in os.listdir(folder_path) if f.endswith(('.png', '.jpg', '.jpeg'))]\n",
    "  if not image_files:\n",
    "    return None\n",
    "  random_image_file = random.choice(image_files)\n",
    "  return os.path.join(folder_path, random_image_file)\n",
    "\n",
    "\n",
    "image_folder = \"/content/FootSegmentation_4/images-unet/Ims_double/test_images\"\n",
    "random_image_path = get_random_image_path(image_folder)\n",
    "\n",
    "if random_image_path:\n",
    "  print(f\"Path de la imagen aleatoria: {random_image_path}\")\n",
    "else:\n",
    "  print(f\"La carpeta '{image_folder}' está vacía.\")"
   ]
  },
  {
   "cell_type": "code",
   "execution_count": null,
   "metadata": {
    "colab": {
     "base_uri": "https://localhost:8080/"
    },
    "id": "10QgiCABal0b",
    "outputId": "03c5db9a-eac4-4e50-886e-5c17f9d6c425"
   },
   "outputs": [
    {
     "name": "stdout",
     "output_type": "stream",
     "text": [
      "Prediction saved as 'predicted_mask2.png'\n"
     ]
    }
   ],
   "source": [
    "# TOMA EL MODELO CARGADO EN LA CELDA ANETERIOR Y HACE UNA PREDICCIÓN:\n",
    "# prompt: Ahora haz la predicción (y muéstrala) de una imagen de mi carpeta /content/FootSegmentation_4/images-unet/IMs29Ago/test_images      con el modelo que acabo de entrenar\n",
    "\n",
    "# Assuming your model is named 'model' and is already loaded with the trained weights.\n",
    "# You'll need to adjust the paths and file names as needed.\n",
    "\n",
    "import torch\n",
    "import torchvision\n",
    "from PIL import Image\n",
    "import numpy as np\n",
    "import albumentations as A\n",
    "from albumentations.pytorch import ToTensorV2\n",
    "\n",
    "# Define the path to the image you want to predict\n",
    "image_path = random_image_path  # Replace with your image path\n",
    "\n",
    "# Load the image\n",
    "image = np.array(Image.open(image_path).convert(\"RGB\"))\n",
    "\n",
    "# Apply the same transformations used during training\n",
    "val_transforms = A.Compose(\n",
    "    [\n",
    "        A.Resize(height=IMAGE_HEIGHT, width=IMAGE_WIDTH),\n",
    "        A.Normalize(\n",
    "            mean=[0.0, 0.0, 0.0],\n",
    "            std=[1.0, 1.0, 1.0],\n",
    "            max_pixel_value=255.0,\n",
    "        ),\n",
    "        ToTensorV2(),\n",
    "    ]\n",
    ")\n",
    "\n",
    "augmentations = val_transforms(image=image)\n",
    "image = augmentations[\"image\"]\n",
    "\n",
    "# Move the image to the device (CPU or GPU)\n",
    "image = image.unsqueeze(0).to(DEVICE)\n",
    "\n",
    "\n",
    "# Make the prediction\n",
    "with torch.no_grad():\n",
    "  prediction = torch.sigmoid(model2(image))\n",
    "  prediction = (prediction > 0.5).float()\n",
    "\n",
    "# Resize the prediction to 512x512\n",
    "prediction = torchvision.transforms.functional.resize(prediction, size=(512, 512))\n",
    "\n",
    "# Save the prediction as an image\n",
    "torchvision.utils.save_image(prediction, \"predicted_mask2.png\")\n",
    "\n",
    "print(\"Prediction saved as 'predicted_mask2.png'\")"
   ]
  },
  {
   "cell_type": "code",
   "execution_count": null,
   "metadata": {
    "colab": {
     "base_uri": "https://localhost:8080/",
     "height": 529
    },
    "id": "LwWwUjdqIrgh",
    "outputId": "d020e91e-21ca-4a86-b684-78bdf6908ae5"
   },
   "outputs": [
    {
     "data": {
      "image/jpeg": "[encoded data removed]",
      "image/png": "[encoded data removed]",
      "text/plain": [
       "<PIL.PngImagePlugin.PngImageFile image mode=RGB size=512x512>"
      ]
     },
     "execution_count": 68,
     "metadata": {},
     "output_type": "execute_result"
    }
   ],
   "source": [
    "Image.open(random_image_path)"
   ]
  },
  {
   "cell_type": "markdown",
   "metadata": {
    "id": "kh2BjJuPFNfN"
   },
   "source": [
    "Guardamos las listas en un csv:"
   ]
  },
  {
   "cell_type": "code",
   "execution_count": null,
   "metadata": {
    "id": "bUu2XNq4FROe"
   },
   "outputs": [],
   "source": [
    "# prompt: Guarda las listas L_dice2, L_loss2, así como las epocas correspondientes en una primera columna en un csv\n",
    "\n",
    "import pandas as pd\n",
    "\n",
    "# Crear un DataFrame con las listas y las épocas\n",
    "data = {'Epoch': range(1, len(L_dice2) + 1), 'Dice Score': [x.cpu().numpy() for x in L_dice2], 'Loss': L_loss2, 'Accuracy':[x.cpu().numpy() for x in L_acc2]}\n",
    "# data = {'Epoch': range(1, len(L_dice2) + 1), 'Dice Score': L_dice2, 'Loss': L_loss2, 'Accuracy':L_acc2}\n",
    "# data = {'Epoch': range(1, len(L_dice2) + 1), 'Dice Score': L_dice2, 'Loss': L_loss2, 'Accuracy':L_acc2}\n",
    "df = pd.DataFrame(data)\n",
    "\n",
    "# Guardar el DataFrame en un archivo CSV\n",
    "df.to_csv('metrics.csv', index=False)"
   ]
  },
  {
   "cell_type": "markdown",
   "metadata": {
    "id": "hIS5g-u8CgRK"
   },
   "source": [
    "# Gráficas de dice y loss funct. por cada época:"
   ]
  },
  {
   "cell_type": "code",
   "execution_count": null,
   "metadata": {
    "colab": {
     "base_uri": "https://localhost:8080/",
     "height": 415
    },
    "id": "O6N8j3X1j98U",
    "outputId": "4f3ee3f1-c7d7-43c6-da86-aaa6b6f2787b"
   },
   "outputs": [
    {
     "data": {
      "image/png": "[encoded data removed]",
      "text/plain": [
       "<Figure size 1000x600 with 2 Axes>"
      ]
     },
     "metadata": {},
     "output_type": "display_data"
    }
   ],
   "source": [
    "# prompt: Graficame [1,2,3] vs [4,5,6] en una gráfica elegante y bonita\n",
    "\n",
    "import matplotlib.pyplot as plt\n",
    "\n",
    "\n",
    "# Convert L_dice1 and L_loss1 to NumPy arrays\n",
    "# L_dice1 = [x.cpu().numpy() for x in L_dice1] # Move tensors to CPU and convert to NumPy\n",
    "# L_dice2 = [x.cpu().numpy() for x in L_dice2]\n",
    "\n",
    "# Datos de ejemplo (reemplaza con tus datos reales)\n",
    "epochs = range(1, len(L_dice2) + 1)\n",
    "\n",
    "# Crear la figura y los ejes\n",
    "fig, ax1 = plt.subplots(figsize=(10, 6))\n",
    "\n",
    "# Graficar la curva de Dice Score\n",
    "color = 'tab:blue'\n",
    "ax1.set_xlabel('Épocas')\n",
    "ax1.set_ylabel('Dice Score', color=color)\n",
    "ax1.plot(epochs, L_dice2, color=color, label=f'Dice Score. Max: {max(L_dice2):.3f}')\n",
    "ax1.tick_params(axis='y', labelcolor=color)\n",
    "\n",
    "# Crear un segundo eje y para la Loss Function\n",
    "ax2 = ax1.twinx()  # Compartir el eje x\n",
    "\n",
    "color = 'tab:red'\n",
    "ax2.set_ylabel('Loss Function', color=color)\n",
    "ax2.plot(epochs, L_loss2, color=color, label=f'Loss Function. Min: {min(L_loss2):.3f}')\n",
    "ax2.tick_params(axis='y', labelcolor=color)\n",
    "\n",
    "# Agregar leyenda y título\n",
    "fig.legend(loc='upper left', bbox_to_anchor=(0.1, 0.9))\n",
    "plt.title('Curvas de Dice Score y Loss Function')\n",
    "\n",
    "# Mostrar la gráfica\n",
    "plt.grid(True)\n",
    "plt.show()"
   ]
  },
  {
   "cell_type": "markdown",
   "metadata": {
    "id": "DWUC5o4pFaSx"
   },
   "source": [
    "# Métricas con el test set:"
   ]
  },
  {
   "cell_type": "code",
   "execution_count": null,
   "metadata": {
    "colab": {
     "base_uri": "https://localhost:8080/"
    },
    "id": "QbUTRjSiDGan",
    "outputId": "df1e5ed4-127d-4ed6-e90e-dca1505171a5"
   },
   "outputs": [
    {
     "name": "stderr",
     "output_type": "stream",
     "text": [
      "<ipython-input-71-67db87e0e89f>:50: UserWarning: To copy construct from a tensor, it is recommended to use sourceTensor.clone().detach() or sourceTensor.clone().detach().requires_grad_(True), rather than torch.tensor(sourceTensor).\n",
      "  y = torch.tensor(mask).unsqueeze(0).unsqueeze(0).to(device)\n"
     ]
    },
    {
     "name": "stdout",
     "output_type": "stream",
     "text": [
      "Accuracy: 0.9976\n",
      "Dice Coefficient: 0.8053\n"
     ]
    }
   ],
   "source": [
    "# prompt: ahora calculame el accuracy y el coeficiente dice del modelo entrenado con ayuda de las carpetas /content/FootSegmentation_4/images-unet/IMs29Ago/test_images y /content/FootSegmentation_4/images-unet/IMs29Ago/test_masks\n",
    "\n",
    "def calculate_metrics(test_image_dir, test_mask_dir, model, device=\"cuda\", image_height=240, image_width=240):\n",
    "  \"\"\"Calculates accuracy and Dice coefficient for a trained model on a test dataset.\n",
    "\n",
    "  Args:\n",
    "    test_image_dir: Path to the directory containing test images.\n",
    "    test_mask_dir: Path to the directory containing test masks.\n",
    "    model: The trained PyTorch model.\n",
    "    device: The device to run the model on (e.g., \"cuda\" or \"cpu\").\n",
    "    image_height: The height to resize images to before feeding them to the model.\n",
    "    image_width: The width to resize images to before feeding them to the model.\n",
    "\n",
    "  Returns:\n",
    "    A tuple containing the accuracy and Dice coefficient.\n",
    "  \"\"\"\n",
    "\n",
    "  num_correct = 0\n",
    "  num_pixels = 0\n",
    "  dice_score = 0\n",
    "  model.eval()\n",
    "\n",
    "  val_transforms = A.Compose(\n",
    "      [\n",
    "          A.Resize(height=image_height, width=image_width),\n",
    "          A.Normalize(\n",
    "              mean=[0.0, 0.0, 0.0],\n",
    "              std=[1.0, 1.0, 1.0],\n",
    "              max_pixel_value=255.0,\n",
    "          ),\n",
    "          ToTensorV2(),\n",
    "      ]\n",
    "  )\n",
    "\n",
    "\n",
    "  image_files = [f for f in os.listdir(test_image_dir) if f.endswith(('.png', '.jpg', '.jpeg'))]\n",
    "  for image_file in image_files:\n",
    "      img_path = os.path.join(test_image_dir, image_file)\n",
    "      mask_path = os.path.join(test_mask_dir, image_file)\n",
    "      image = np.array(Image.open(img_path).convert(\"RGB\"))\n",
    "      mask = np.array(Image.open(mask_path).convert(\"L\"), dtype=np.float32)\n",
    "      mask[mask == 255.0] = 1.0\n",
    "\n",
    "      augmentations = val_transforms(image=image, mask=mask)\n",
    "      image = augmentations[\"image\"]\n",
    "      mask = augmentations[\"mask\"]\n",
    "\n",
    "\n",
    "      x = image.unsqueeze(0).to(device)\n",
    "      y = torch.tensor(mask).unsqueeze(0).unsqueeze(0).to(device)\n",
    "\n",
    "\n",
    "      with torch.no_grad():\n",
    "          preds = torch.sigmoid(model(x))\n",
    "          preds = (preds > 0.5).float()\n",
    "          num_correct += (preds == y).sum()\n",
    "          num_pixels += torch.numel(preds)\n",
    "          dice_score += (2 * (preds * y).sum()) / ((preds + y).sum() + 1e-8)\n",
    "\n",
    "  accuracy = num_correct / num_pixels if num_pixels > 0 else 0\n",
    "  dice_coefficient = dice_score / len(image_files) if len(image_files) > 0 else 0\n",
    "\n",
    "  model.train()\n",
    "\n",
    "  return accuracy, dice_coefficient\n",
    "\n",
    "# Example usage:\n",
    "# test_image_dir = \"/content/FootSegmentation_4/images-unet/IMs29Ago/test_images\"\n",
    "# test_mask_dir = \"/content/FootSegmentation_4/images-unet/IMs29Ago/test_masks\"\n",
    "test_image_dir = \"/content/FootSegmentation_4/images-unet/Ims_double/test_images\"\n",
    "test_mask_dir = \"/content/FootSegmentation_4/images-unet/Ims_double/test_masks\"\n",
    "\n",
    "accuracy, dice_coefficient = calculate_metrics(test_image_dir, test_mask_dir, model2, device=DEVICE)\n",
    "print(f\"Accuracy: {accuracy:.4f}\")\n",
    "print(f\"Dice Coefficient: {dice_coefficient:.4f}\")"
   ]
  },
  {
   "cell_type": "code",
   "execution_count": null,
   "metadata": {
    "colab": {
     "base_uri": "https://localhost:8080/"
    },
    "id": "jtz8Xvx3BFC0",
    "outputId": "b9a679e0-5fe1-4e00-d0ca-186661a85a6b"
   },
   "outputs": [
    {
     "name": "stdout",
     "output_type": "stream",
     "text": [
      "Best_dice: 0.9131\n",
      "Best_accuracy: 0.9971\n",
      "Best_loss: 0.0911\n",
      "Best_epoch: 102\n"
     ]
    }
   ],
   "source": [
    "# Best metrics:\n",
    "print(f\"Best_dice: {max(L_dice2):.4f}\")\n",
    "print(f\"Best_accuracy: {max(L_acc2):.4f}\")\n",
    "print(f\"Best_loss: {min(L_loss2):.4f}\")\n",
    "print(f\"Best_epoch: {L_dice2.index(max(L_dice2))+1}\")"
   ]
  },
  {
   "cell_type": "code",
   "execution_count": null,
   "metadata": {
    "colab": {
     "base_uri": "https://localhost:8080/"
    },
    "id": "MshgpPUYPUhE",
    "outputId": "4d8ae727-8af9-4158-89fd-571f63abb136"
   },
   "outputs": [
    {
     "name": "stderr",
     "output_type": "stream",
     "text": [
      "<ipython-input-71-67db87e0e89f>:50: UserWarning: To copy construct from a tensor, it is recommended to use sourceTensor.clone().detach() or sourceTensor.clone().detach().requires_grad_(True), rather than torch.tensor(sourceTensor).\n",
      "  y = torch.tensor(mask).unsqueeze(0).unsqueeze(0).to(device)\n"
     ]
    },
    {
     "data": {
      "text/plain": [
       "(tensor(0.9971, device='cuda:0'), tensor(0.8512, device='cuda:0'))"
      ]
     },
     "execution_count": 73,
     "metadata": {},
     "output_type": "execute_result"
    }
   ],
   "source": [
    "calculate_metrics(VAL_IMG_DIR, VAL_MASK_DIR, model2, device=DEVICE)"
   ]
  },
  {
   "cell_type": "code",
   "execution_count": null,
   "metadata": {
    "id": "Z749o6NoSI4G"
   },
   "outputs": [],
   "source": []
  }
 ],
 "metadata": {
  "accelerator": "GPU",
  "colab": {
   "collapsed_sections": [
    "9crow4aDiMP5"
   ],
   "gpuType": "T4",
   "provenance": []
  },
  "kernelspec": {
   "display_name": "base",
   "language": "python",
   "name": "python3"
  },
  "language_info": {
   "name": "python",
   "version": "3.11.7"
  }
 },
 "nbformat": 4,
 "nbformat_minor": 0
}
